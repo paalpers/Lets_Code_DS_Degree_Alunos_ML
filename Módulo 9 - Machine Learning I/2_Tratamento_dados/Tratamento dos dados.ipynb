{
 "cells": [
  {
   "cell_type": "markdown",
   "metadata": {},
   "source": [
    "# Tratamento dos dados usando o Sklearn\n",
    "\n",
    "Feature engineering refere-se a um processo de seleção e transformação das variáveis independentes com o objetivo de construir um modelo preditivo usando aprendizado de máquina.\n",
    "\n",
    "Qualquer pessoa pode simplesmente passar dados para os modelos do sklearn ou fazer automl, o diferencial está no tratamento que é feito nos dados\n",
    "\n",
    "A ideia de que existem diferentes maneiras de representar atributos em um modelo, e que algumas dessas representações são melhores que outras, leva à ideia de feature engineering - o processo de criação de representações de dados que aumentam a eficácia de um modelo.\n",
    "\n",
    "Observe que a eficácia do modelo é influenciada por muitas coisas. Obviamente, se o atributo não tem relação com o resultado, sua representação é irrelevante. No entanto, é muito importante perceber que há uma infinidade de tipos de modelos e que cada um tem suas próprias sensibilidades e necessidades. Por exemplo:\n",
    "\n",
    "- Alguns modelos não podem tolerar multicolinearidade ou correlação entre atributos.\n",
    "- Muitos modelos não podem usar amostras com valores ausentes.\n",
    "- Alguns modelos são severamente comprometidos quando atributos irrelevantes estão nos dados.\n",
    "\n",
    "A feature engineering e a seleção de variáveis ​​podem ajudar a mitigar muitos desses problemas.\n",
    "\n",
    "## Processo de tratamento dos dados e modelagem\n",
    "\n",
    "<img src=\"https://miro.medium.com/max/875/1*QRVI4dwzTN89P8awT8FC6A.png\"  width=700>\n",
    "\n",
    "## Etapas do pré-processamento dos dados\n",
    "\n",
    "<img src=\"images/pre-processing_order.png\" width=700>"
   ]
  },
  {
   "cell_type": "markdown",
   "metadata": {},
   "source": [
    "\n",
    "\n",
    "- __Split:__ \n",
    "    - Train-test split\n",
    "<br><br>\n",
    "\n",
    "- __Cleaning:__\n",
    "    - dropar columnas que não fazem sentido\n",
    "    - remover duplicados\n",
    "    - remover linhas baseado em algum critério de filtro\n",
    "    - remover outliers\n",
    "    - remover valores errados\n",
    "    - mudar os datatypes (str, int, float)\n",
    "    - marcar missings como NAN\n",
    "\n",
    "**A etapa de limpeza dos dados deve vir antes de imputar valores missing e do one-hot-encoding**.\n",
    "\n",
    "- __Imputing Missing Values:__ <br>\n",
    "    - SimpleImputer (média, media, moda)\n",
    "    - KNNImputer\n",
    "    - IterativeImputer\n",
    "\n",
    "__O Imputing deve ser feito ANTES do One-Hot-Encoding__ (tanto que ele não aceita valores nans).\n",
    "<br>\n",
    "\n",
    "- __Transform features:__ \n",
    "    - Features Categóricas: <br>\n",
    "        - OrdinalEncoder <br>\n",
    "        - LabelEncoder <br>\n",
    "        - One-Hot-Encoding <br>\n",
    "    - Features Numéricas:\n",
    "        - Binarizer\n",
    "        - KBinsDiscretizer\n",
    "        - MinMaxScale\n",
    "        - StandardScale\n",
    "        - RobustScale\n",
    "    \n",
    "Os dados nans e tipos de colunas devem ter sido tratados antes desse processo.\n",
    "\n",
    "- __Feature Engineering:__\n",
    "    - PolynomialFeatures\n",
    "    - PowerTransformer\n",
    "    - Agregação de Features\n",
    "<br>\n",
    "<br>\n",
    "\n",
    "- __Feature Selection:__\n",
    "    - Univariate statistical tests\n",
    "    - Recursive Feature Elimination (RFE)\n",
    "    - Mutual_info_classif\n",
    "    - Variance inflation factor (VIF)\n",
    "<br><br>\n",
    "\n",
    "- __Dimensionality Reduction:__\n",
    "\n",
    "    - Principal Component Analysis (PCA)\n",
    "    - Linear Discriminant Analysis (LDA)\n",
    "    - t-SNE\n",
    "\n",
    "\n",
    "Na aula de hoje veremos as classes que fazem os pré-processamentos de Imputing Missing Values, Transform features e Feature Engineering. Feature Selection e Dimensionality Reduction ficarão para outra aula.\n",
    "\n",
    "A partir de agora denominaremos essas classes de `Transformers` adiantando um conceito que será importante em na aula de pipelines. A ideia desses métodos é transformar nossos dados para tanto permitir que consigamos utilizar essas informações nos modelos quanto para melhorar a asservidade do mesmo."
   ]
  },
  {
   "cell_type": "markdown",
   "metadata": {},
   "source": [
    "### Atenção\n",
    "\n",
    "É **muito importante** que os transformers sejam fitados **com os dados de treino**, para que informações da base de teste não sejam utilizadas no treinamento (conceito conhecido como [data leakage](https://machinelearningmastery.com/data-preparation-without-data-leakage/)).\n",
    "\n",
    "Por isso, sempre siga o seguinte passo-a-passo par aplicação de transformers:\n",
    "\n",
    "- Primeiro, faça o train test split;\n",
    "- Use o `.fit_transform()` nos dados de **treino**;\n",
    "- Use o `.transform()` pra transformar os dados de teste -- com o **mesmo transformer treinado** com os dados de treino;"
   ]
  },
  {
   "cell_type": "code",
   "execution_count": 2,
   "metadata": {},
   "outputs": [],
   "source": [
    "# Imports gerais\n",
    "import numpy as np\n",
    "import pandas as pd\n",
    "import matplotlib.pyplot as plt\n",
    "import seaborn as sns"
   ]
  },
  {
   "cell_type": "markdown",
   "metadata": {},
   "source": [
    "# Dados Faltantes\n",
    "<img src=\"images/pre-processing_order.png\" width=600>"
   ]
  },
  {
   "cell_type": "markdown",
   "metadata": {},
   "source": [
    "- <font size=4><b>SimpleImputer</b></font>\n",
    "\n",
    "O [__SimpleImputer__](https://scikit-learn.org/stable/modules/generated/sklearn.impute.SimpleImputer.html) do módulo `sklearn.impute` executa estratégias para lidar com __valores númericos faltantes__.<br><br>\n",
    "Estratégias  de imputação disponíveis:\n",
    "\n",
    "- “mean”, substitui valores ausentes usando a média ao longo de cada coluna. Só pode ser usado com dados numéricos.\n",
    "- “median”, substitui valores ausentes usando a mediana ao longo de cada coluna. Só pode ser usado com dados numéricos.\n",
    "- “most_frequent”, substitui missing usando o valor mais frequente ao longo de cada coluna. Pode ser usado com strings ou dados numéricos. Se houver mais de um valor, somente o menor será retornado.\n",
    "- \"constant\", substitui valores ausentes por fill_value. Pode ser usado com strings ou dados numéricos.\n",
    "\n"
   ]
  },
  {
   "cell_type": "code",
   "execution_count": 12,
   "metadata": {},
   "outputs": [],
   "source": [
    "from sklearn.impute import SimpleImputer"
   ]
  },
  {
   "cell_type": "code",
   "execution_count": null,
   "metadata": {},
   "outputs": [
    {
     "name": "stdout",
     "output_type": "stream",
     "text": [
      "[[-1. ]\n",
      " [-0.5]\n",
      " [ 0. ]\n",
      " [ 0.5]\n",
      " [ 1. ]]\n",
      " \n",
      "[0.]\n"
     ]
    }
   ],
   "source": [
    "# Mean\n",
    "# Vamos criar dados numéricos como exemplo. \n",
    "X = np.array([[-1.0], \n",
    "              [-0.5], \n",
    "              [np.nan], \n",
    "              [0.5], \n",
    "              [1.0]])\n",
    "\n",
    "# Instanciando o encoder.\n",
    "imputer = SimpleImputer(strategy='mean')\n",
    "\n",
    "# Treinando o encoder e transformando os dados de entrada.\n",
    "X_impt = imputer.fit_transform(X)\n",
    "\n",
    "# Mostrando o resultado.\n",
    "print(X_impt)\n",
    "print(' ')\n",
    "print(imputer.statistics_)"
   ]
  },
  {
   "cell_type": "code",
   "execution_count": null,
   "metadata": {},
   "outputs": [
    {
     "name": "stdout",
     "output_type": "stream",
     "text": [
      "[[-1. ]\n",
      " [-0.5]\n",
      " [99. ]\n",
      " [ 0.5]\n",
      " [ 1. ]]\n",
      " \n",
      "[99.]\n"
     ]
    }
   ],
   "source": [
    "# Constant\n",
    "\n",
    "# Instanciando o encoder.\n",
    "imputer = SimpleImputer(strategy='constant', fill_value=99)\n",
    "\n",
    "# Treinando o encoder e transformando os dados de entrada.\n",
    "X_impt = imputer.fit_transform(X)\n",
    "\n",
    "# Mostrando o resultado.\n",
    "print(X_impt)\n",
    "print(' ')\n",
    "print(imputer.statistics_)"
   ]
  },
  {
   "cell_type": "markdown",
   "metadata": {},
   "source": [
    "- <font size=4><b>[KNNImputer](https://scikit-learn.org/stable/modules/generated/sklearn.impute.KNNImputer.html#sklearn.impute.KNNImputer)</b></font>\n",
    "\n",
    "<br>\n",
    "Os valores ausentes de cada amostra são imputados usando o valor médio de n_vizinhos mais próximos encontrados no conjunto de treinamento. Duas amostras estão próximas se as features que não estão faltando estiverem próximos.\n"
   ]
  },
  {
   "cell_type": "code",
   "execution_count": null,
   "metadata": {},
   "outputs": [
    {
     "name": "stdout",
     "output_type": "stream",
     "text": [
      "Antes:\n",
      " [[ 1.  2. nan]\n",
      " [ 3.  4.  3.]\n",
      " [nan  6.  5.]\n",
      " [ 8.  8.  7.]]\n",
      "\n",
      "Depois:\n",
      "\n"
     ]
    },
    {
     "data": {
      "text/plain": [
       "array([[1. , 2. , 4. ],\n",
       "       [3. , 4. , 3. ],\n",
       "       [5.5, 6. , 5. ],\n",
       "       [8. , 8. , 7. ]])"
      ]
     },
     "metadata": {},
     "output_type": "display_data"
    }
   ],
   "source": [
    "import numpy as np\n",
    "from sklearn.impute import KNNImputer\n",
    "X = np.array([[1, 2, np.nan], [3, 4, 3], [np.nan, 6, 5], [8, 8, 7]])\n",
    "imputer = KNNImputer(n_neighbors=2)\n",
    "print(\"Antes:\\n\", X)\n",
    "print(\"\\nDepois:\\n\")\n",
    "imputer.fit_transform(X)"
   ]
  },
  {
   "cell_type": "markdown",
   "metadata": {},
   "source": [
    "- <font size=4><b>[IterativeImputer](https://scikit-learn.org/stable/modules/generated/sklearn.impute.IterativeImputer.html#sklearn.impute.IterativeImputer)</b></font> <br> <br>\n",
    "Modela cada feature com valores ausentes em função de outras features e usa essa estimativa para imputação. Ele faz isso de maneira iterativa: em cada etapa, uma coluna de feature é designada como saída (y) e as outras colunas de features são tratadas como entradas (X). Um regressor é ajustado em (X, y) para y conhecido. Em seguida, o regressor é usado para prever os valores ausentes de y. Isso é feito para cada feature de maneira iterativa e, em seguida, repetido para rodadas de imputação max_iter. Os resultados da rodada de imputação final são retornados."
   ]
  },
  {
   "cell_type": "code",
   "execution_count": null,
   "metadata": {},
   "outputs": [
    {
     "name": "stdout",
     "output_type": "stream",
     "text": [
      "Antes:\n",
      " [[ 1.  2.]\n",
      " [ 3.  6.]\n",
      " [ 4.  8.]\n",
      " [nan  3.]\n",
      " [ 7. nan]]\n",
      "\n",
      "\n",
      "Depois:\n",
      " [[ 1.          2.        ]\n",
      " [ 3.          6.        ]\n",
      " [ 4.          8.        ]\n",
      " [ 1.50004509  3.        ]\n",
      " [ 7.         14.00004135]]\n",
      "\n",
      "\n",
      "X_test:\n",
      "\n",
      "[[ 1.  2.]\n",
      " [ 6. 12.]\n",
      " [ 3.  6.]]\n"
     ]
    }
   ],
   "source": [
    "import numpy as np\n",
    "from sklearn.experimental import enable_iterative_imputer\n",
    "from sklearn.impute import IterativeImputer\n",
    "imp = IterativeImputer(max_iter=10, random_state=0)\n",
    "X_nan = np.array([[1, 2], [3, 6], [4, 8], [np.nan, 3], [7, np.nan]])\n",
    "X = imp.fit_transform(X_nan)\n",
    "\n",
    "X_test = [[np.nan, 2], [6, np.nan], [np.nan, 6]]\n",
    "# the model learns that the second feature is double the first\n",
    "print(\"Antes:\\n\", X_nan)\n",
    "print(\"\\n\\nDepois:\\n\", X)\n",
    "print(\"\\n\\nX_test:\\n\")\n",
    "print(np.round(imp.transform(X_test)))"
   ]
  },
  {
   "cell_type": "markdown",
   "metadata": {},
   "source": [
    "# Transform Features: Dados Categóricos\n",
    "<img src=\"images/pre-processing_order.png\" width=600>"
   ]
  },
  {
   "cell_type": "markdown",
   "metadata": {},
   "source": [
    "No módulo 3, aprendemos como numerizar features categóricas usando o `pd.get_dummies()`, bem como usando o `.astype(\"category\").cat.codes`.\n",
    "\n",
    "Agora, com o objetivo de incluir essas estratégias de pré-processamento no pipeline, é importante que também usemos o sklearn pra fazer isso!\n",
    "\n",
    "As classes relevantes são:\n",
    "\n",
    "- [OrdinalEncoder](https://scikit-learn.org/stable/modules/generated/sklearn.preprocessing.OrdinalEncoder.html#sklearn.preprocessing.OrdinalEncoder) - faz o ordinal encoding das features.\n",
    "- [LabelEncoder](https://scikit-learn.org/stable/modules/generated/sklearn.preprocessing.LabelEncoder.html?highlight=labelencoder#sklearn.preprocessing.LabelEncoder) - encoding para o label\n",
    "- [OneHotEncoder](https://scikit-learn.org/stable/modules/generated/sklearn.preprocessing.OneHotEncoder.html#sklearn.preprocessing.OneHotEncoder) - faz o one-hot encoding das features;\n",
    "\n"
   ]
  },
  {
   "cell_type": "markdown",
   "metadata": {},
   "source": [
    "#### OrdinalEncoder e LabelEncoder\n",
    "Transformam as categorias em números sequenciais em uma mesma coluna. Em ambos casos a ordenação é feita alfabeticamente, se temos uma ordem definida que queremos seguir só poderemos utilizar o OrdinalEncoder e precisamos passar um array com a ordem esperada.\n",
    "\n",
    "\n",
    "<img src=\"https://i.imgur.com/tEogUAr.png\" width=1000>"
   ]
  },
  {
   "cell_type": "markdown",
   "metadata": {},
   "source": [
    "Mas qual a diferença entre os dois?\n",
    "\n",
    "- `OrdinalEncoder` é para dados 2D com shape (n_samples, n_features) e por isso é utilizado na transformação de features;\n",
    "- `LabelEncoder` é para dados 1D com shape (n_samples,) e por isso é utilizado na transformação do label\n",
    "\n",
    "Outra diferença entre eles é o nome do learned parameter;\n",
    "\n",
    "- `LabelEncoder`  learns `classes_`\n",
    "- `OrdinalEncoder` learns `categories_`"
   ]
  },
  {
   "cell_type": "markdown",
   "metadata": {},
   "source": [
    "Vamos considerar um exemplo bem simples em que temos a área em km^2 de cidades da França e queremos prever se são cidades boas de se morar."
   ]
  },
  {
   "cell_type": "code",
   "execution_count": 3,
   "metadata": {},
   "outputs": [],
   "source": [
    "from sklearn.preprocessing import OrdinalEncoder, LabelEncoder"
   ]
  },
  {
   "cell_type": "code",
   "execution_count": 5,
   "metadata": {},
   "outputs": [],
   "source": [
    "# Pegando cidades, regiões e suas respectivas áreas (em km^2) da França \n",
    "X = np.array([['Paris', 'Île-de-France', 105.4],\n",
    "              ['Yvelines', 'Île-de-France', 2284.0],\n",
    "              ['Grenoble', 'Auvergne-Rhône-Alpes', 18.13],\n",
    "              ['Lyon Metropolis', 'Auvergne-Rhône-Alpes', 533.68]])\n",
    "\n",
    "# Quais parecem legais, quais parecem chatas\n",
    "y = ['uncool', 'cool', 'uncool', 'cool']\n",
    "\n",
    "# Instanciando os encoders\n",
    "feature_encoder = OrdinalEncoder()\n",
    "label_encoder = LabelEncoder()\n",
    "\n",
    "# Treinando os encoders já transformando os dados.\n",
    "# No caso, a área das cidades não é categórico, então retiramos antes do fit_transform..\n",
    "X_encoded = feature_encoder.fit_transform(X[:,:2])\n",
    "y_encoded = label_encoder.fit_transform(y)\n"
   ]
  },
  {
   "cell_type": "code",
   "execution_count": 6,
   "metadata": {},
   "outputs": [
    {
     "name": "stdout",
     "output_type": "stream",
     "text": [
      "X:\n",
      " [['Paris' 'Île-de-France' '105.4']\n",
      " ['Yvelines' 'Île-de-France' '2284.0']\n",
      " ['Grenoble' 'Auvergne-Rhône-Alpes' '18.13']\n",
      " ['Lyon Metropolis' 'Auvergne-Rhône-Alpes' '533.68']]\n",
      "\n",
      "\n",
      "X_encoded:\n",
      " [[2. 1.]\n",
      " [3. 1.]\n",
      " [0. 0.]\n",
      " [1. 0.]]\n",
      "\n",
      "categories:  [array(['Grenoble', 'Lyon Metropolis', 'Paris', 'Yvelines'], dtype='<U32'), array(['Auvergne-Rhône-Alpes', 'Île-de-France'], dtype='<U32')]\n",
      "\n",
      "\n",
      "y_encoded: \n",
      " [1 0 1 0]\n",
      "\n",
      "classes:  ['cool' 'uncool']\n"
     ]
    }
   ],
   "source": [
    "# Antes\n",
    "print(\"X:\\n\", X)\n",
    "\n",
    "# Como ficou o resultado?\n",
    "print(\"\\n\\nX_encoded:\\n\", X_encoded)\n",
    "print(\"\\ncategories: \", feature_encoder.categories_)\n",
    "\n",
    "# Como ficou o resultado?\n",
    "print(\"\\n\\ny_encoded: \\n\", y_encoded)\n",
    "print(\"\\nclasses: \", label_encoder.classes_)"
   ]
  },
  {
   "cell_type": "code",
   "execution_count": 7,
   "metadata": {},
   "outputs": [
    {
     "data": {
      "text/plain": [
       "array([2., 1., 1., 0.])"
      ]
     },
     "execution_count": 7,
     "metadata": {},
     "output_type": "execute_result"
    }
   ],
   "source": [
    "# Para passar uma determinada ordem ao OrdinalEncoder:\n",
    "OrdinalEncoder(categories=[['cold','warm','hot']])\\\n",
    "    .fit_transform([['hot'],['warm'],['warm'],['cold']])\\\n",
    "    .reshape((1,-1))[0]"
   ]
  },
  {
   "cell_type": "markdown",
   "metadata": {},
   "source": [
    "- <font size=4><b>[OneHotEncoder](https://scikit-learn.org/stable/modules/generated/sklearn.preprocessing.OneHotEncoder.html?highlight=onehotencoder#sklearn.preprocessing.OneHotEncoder)</b></font> <br>\n",
    "Transforma cada uma das categorias em binários em colunas distintas."
   ]
  },
  {
   "cell_type": "markdown",
   "metadata": {},
   "source": [
    "<img src=\"https://i.imgur.com/TW5m0aJ.png\" width=1000>"
   ]
  },
  {
   "cell_type": "code",
   "execution_count": 8,
   "metadata": {},
   "outputs": [],
   "source": [
    "from sklearn.preprocessing import OneHotEncoder"
   ]
  },
  {
   "cell_type": "code",
   "execution_count": 9,
   "metadata": {},
   "outputs": [
    {
     "name": "stdout",
     "output_type": "stream",
     "text": [
      "  (0, 2)\t1.0\n",
      "  (1, 0)\t1.0\n",
      "  (2, 1)\t1.0\n",
      "  (3, 1)\t1.0\n",
      "  (4, 0)\t1.0\n",
      " \n",
      "[array(['Irmão do Jorel', 'Vovó Juju', 'abacate'], dtype='<U14')]\n"
     ]
    }
   ],
   "source": [
    "# Vamos pegar uma coluna de dados categóricos como exemplo. \n",
    "X = np.array([['abacate'], \n",
    "              ['Irmão do Jorel'], \n",
    "              ['Vovó Juju'], \n",
    "              ['Vovó Juju'], \n",
    "              ['Irmão do Jorel']])\n",
    "\n",
    "# Instanciando o encoder.\n",
    "dummy_encoder = OneHotEncoder() \n",
    "\n",
    "# Treinando o encoder e transformando os dados de entrada.\n",
    "X_onehot = dummy_encoder.fit_transform(X)\n",
    "\n",
    "# Mostrando o resultado.\n",
    "print(X_onehot)\n",
    "print(' ')\n",
    "print(dummy_encoder.categories_) # Observe que ele tb ordena o vetor seguindo a tabela ASCII"
   ]
  },
  {
   "cell_type": "markdown",
   "metadata": {},
   "source": [
    "O OneHotEncoder retorna por padrão uma matriz esparsa do scipy:"
   ]
  },
  {
   "cell_type": "code",
   "execution_count": 10,
   "metadata": {},
   "outputs": [
    {
     "name": "stdout",
     "output_type": "stream",
     "text": [
      "<class 'scipy.sparse.csr.csr_matrix'>\n"
     ]
    }
   ],
   "source": [
    "print(type(X_onehot))"
   ]
  },
  {
   "cell_type": "markdown",
   "metadata": {},
   "source": [
    "Uma \"matriz esparsa\" é apenas uma outra forma de escrever uma matriz. Dentro do parêntesis a gente escreve as posições (linha, coluna) onde o valor não é zero, e fora do parêntesis qual o valor que foi atribuído. Exemplo: <br>\n",
    "(0, 2)      1.0 <br>\n",
    "Na linha zero e coluna 2 foi atribuído o valor 1."
   ]
  },
  {
   "cell_type": "markdown",
   "metadata": {},
   "source": [
    "Para obter um numpy array ao invés de uma matriz esparsa podemos passar o parâmetro `sparse=False` ao instanciar o encoder ou fazer essa conversão aplicando `X_onehot.toarray()`.\n",
    "\n",
    "Além disso, e se quisermos jogar uma coluna fora depois do OneHotEncoding? Também tem um parâmetro pra isso: `drop='first'`.\n",
    "Atenção ao usar drop='first' -> olhar documentação"
   ]
  },
  {
   "cell_type": "code",
   "execution_count": 6,
   "metadata": {},
   "outputs": [
    {
     "name": "stdout",
     "output_type": "stream",
     "text": [
      "[[0. 1.]\n",
      " [0. 0.]\n",
      " [1. 0.]\n",
      " [1. 0.]\n",
      " [0. 0.]]\n",
      " \n",
      "[array(['Irmão do Jorel', 'Vovó Juju', 'abacate'], dtype='<U14')]\n"
     ]
    }
   ],
   "source": [
    "# Vamos pegar uma coluna de dados categóricos como exemplo. \n",
    "X = np.array([['abacate'], \n",
    "              ['Irmão do Jorel'], \n",
    "              ['Vovó Juju'], \n",
    "              ['Vovó Juju'], \n",
    "              ['Irmão do Jorel']])\n",
    "\n",
    "# Instanciando o encoder.\n",
    "dummy_encoder = OneHotEncoder(drop='first', sparse=False)\n",
    "\n",
    "# Treinando o encoder e transformando os dados de entrada.\n",
    "X_onehot = dummy_encoder.fit_transform(X)\n",
    "\n",
    "# Mostrando o resultado.\n",
    "print(X_onehot)\n",
    "print(' ')\n",
    "print(dummy_encoder.categories_)\n"
   ]
  },
  {
   "cell_type": "markdown",
   "metadata": {},
   "source": [
    "# Transform Features: Dados Numéricos\n",
    "Atributos contínuos estão sujeitos a problemas no processo de modelagem. Por exemplo, modelos que constroem relacionamentos entre os atributos e a saída baseados na ordenação dos valores dos atributos em vez do valor real, como árvores, são imunes a distribuições de features distorcidas ou a amostras individuais que possuem valores incomuns (outliers). Outros modelos, como KNN e SVM, são muito mais sensíveis a features com distribuições distorcidas ou discrepantes.\n",
    "\n",
    "Problemas comuns:\n",
    "\n",
    "- Features com escalas muito diferentes.\n",
    "- Features com uma distribuição assimétrica onde uma pequena proporção de amostras são ordens de magnitude maiores que a maioria dos dados.\n",
    "- Dados com valores extremos (outliers).\n",
    "- Conter informações relevantes e excessivamente redundantes. Ou seja, as informações coletadas podem ser representadas de forma mais eficaz e eficiente com um número menor e consolidado de novos atributos.\n",
    "\n",
    "\n",
    "## Scale\n",
    "Escalar geralmente significa alterar o intervalo dos valores. A forma da distribuição não muda. Pense em como uma maquete em escala de um edifício tem as mesmas proporções que o original, apenas menor. É por isso que dizemos que é desenhado em escala.\n",
    "<br> <br>\n",
    "Para alguns modelos de ML essa etapa de scaling é essencial:\n",
    "- linear and logistic regression\n",
    "- KNN\n",
    "- neural networks (NN)\n",
    "- support vector machines with radial bias kernel functions (SVM)\n",
    "- principal components analysis (PCA)\n",
    "- linear discriminant analysis (LDA)"
   ]
  },
  {
   "cell_type": "markdown",
   "metadata": {},
   "source": [
    "- <font size=4><b>[StandardScaler](https://scikit-learn.org/stable/modules/generated/sklearn.preprocessing.StandardScaler.html)</b></font>: \n",
    "Média 0 e std 1 <br>\n",
    "\n",
    "$$\\frac{x_i - mean(x)}{std(x)}$$"
   ]
  },
  {
   "cell_type": "code",
   "execution_count": null,
   "metadata": {},
   "outputs": [],
   "source": [
    "from sklearn.preprocessing import StandardScaler"
   ]
  },
  {
   "cell_type": "code",
   "execution_count": null,
   "metadata": {},
   "outputs": [],
   "source": [
    "# Vamos criar dados numéricos como exemplo.\n",
    "X = np.array([[-1.0], \n",
    "              [-0.5], \n",
    "              [0.], \n",
    "              [0.5], \n",
    "              [1.0]])\n",
    "\n",
    "# Instanciando o encoder.\n",
    "standard_scaler = StandardScaler()\n",
    "\n",
    "# Treinando o encoder e transformando os dados de entrada.\n",
    "X_std = standard_scaler.fit_transform(X)\n",
    "\n",
    "# Mostrando o resultado.\n",
    "print(X_std)\n",
    "print(' ')\n",
    "print(standard_scaler.mean_, standard_scaler.scale_)"
   ]
  },
  {
   "cell_type": "markdown",
   "metadata": {},
   "source": [
    "- <font size=4><b>[MinMaxScaler](https://scikit-learn.org/stable/modules/generated/sklearn.preprocessing.MinMaxScaler.html)</b></font>: valores variam entre 0 e 1 ou -1 e 1 se no dataset tiver valores negativos\n",
    "\n",
    "<br>\n",
    "\n",
    "$$\\frac{x_i - min(x)}{max(x)-min(x)}$$"
   ]
  },
  {
   "cell_type": "code",
   "execution_count": 13,
   "metadata": {},
   "outputs": [],
   "source": [
    "from sklearn.preprocessing import MinMaxScaler"
   ]
  },
  {
   "cell_type": "code",
   "execution_count": null,
   "metadata": {},
   "outputs": [],
   "source": [
    "# Vamos criar dados numéricos como exemplo. \n",
    "X = np.array([[-1.0], \n",
    "              [-0.5], \n",
    "              [0.], \n",
    "              [0.5], \n",
    "              [1.0]])\n",
    "\n",
    "# Instanciando o encoder.\n",
    "minmax_scaler = MinMaxScaler()\n",
    "\n",
    "# Treinando o encoder e transformando os dados de entrada.\n",
    "X_minmax = minmax_scaler.fit_transform(X)\n",
    "\n",
    "# Mostrando o resultado.\n",
    "print(X_minmax)\n",
    "print(' ')\n",
    "print(minmax_scaler.data_min_, minmax_scaler.data_max_)"
   ]
  },
  {
   "cell_type": "markdown",
   "metadata": {},
   "source": [
    "Ao instanciar a classe podemos definir quais valores queremos como mínimo e máximo passando uma tupla ao parâmetro `feature_range(min, max)`:"
   ]
  },
  {
   "cell_type": "code",
   "execution_count": null,
   "metadata": {},
   "outputs": [],
   "source": [
    "# Vamos criar dados numéricos como exemplo. \n",
    "X = np.array([[-1.0], \n",
    "              [-0.5], \n",
    "              [0.], \n",
    "              [0.5], \n",
    "              [1.0]])\n",
    "\n",
    "# Instanciando o encoder.\n",
    "minmax_scaler = MinMaxScaler(feature_range=(-3,4))\n",
    "\n",
    "# Treinando o encoder e transformando os dados de entrada.\n",
    "X_minmax = minmax_scaler.fit_transform(X)\n",
    "\n",
    "# Mostrando o resultado.\n",
    "print(X_minmax)\n",
    "print(' ')\n",
    "print(minmax_scaler.data_min_, minmax_scaler.data_max_)"
   ]
  },
  {
   "cell_type": "markdown",
   "metadata": {},
   "source": [
    "Na presença de outliers, tanto o __StandardScale__ quanto o __MinMaxScale__ geram o encolhimento no intervalo dos valores.\n",
    "<br>\n",
    "<br>\n",
    "- <font size=4><b>[RobustScaler](https://scikit-learn.org/stable/modules/generated/sklearn.preprocessing.RobustScaler.html)</b></font>: escala os dados usando os IQR\n",
    "<br>\n",
    "$$\\frac{x_i - Q_1(x)}{Q_3(x)-Q_1(x)}$$"
   ]
  },
  {
   "cell_type": "code",
   "execution_count": 15,
   "metadata": {},
   "outputs": [
    {
     "name": "stdout",
     "output_type": "stream",
     "text": [
      "[[-72.90909091]\n",
      " [ -0.54545455]\n",
      " [ -0.18181818]\n",
      " [  0.18181818]\n",
      " [  0.54545455]\n",
      " [  1.27272727]\n",
      " [  4.90909091]\n",
      " [  0.54545455]\n",
      " [ -0.4       ]\n",
      " [ -0.47272727]]\n",
      " \n"
     ]
    }
   ],
   "source": [
    "from sklearn.preprocessing import RobustScaler\n",
    "\n",
    "# Vamos criar dados numéricos como exemplo. \n",
    "X = np.array([[-100.0], \n",
    "              [-0.5], \n",
    "              [0.], \n",
    "              [0.5], \n",
    "              [1.0],\n",
    "              [2],\n",
    "              [7],\n",
    "              [1],\n",
    "              [-0.3],\n",
    "              [-0.4]])\n",
    "\n",
    "# Instanciando o encoder.\n",
    "rs = RobustScaler()\n",
    "\n",
    "# Treinando o encoder e transformando os dados de entrada.\n",
    "X_rs = rs.fit_transform(X)\n",
    "\n",
    "# Mostrando o resultado.\n",
    "print(X_rs)\n",
    "print(' ')\n",
    "# print(minmax_scaler.data_min_, minmax_scaler.data_max_)\n"
   ]
  },
  {
   "cell_type": "markdown",
   "metadata": {},
   "source": [
    "#### Comparando os scales"
   ]
  },
  {
   "cell_type": "code",
   "execution_count": 2,
   "metadata": {},
   "outputs": [
    {
     "data": {
      "image/png": "[encoded data removed]",
      "text/plain": [
       "<Figure size 1440x360 with 4 Axes>"
      ]
     },
     "metadata": {},
     "output_type": "display_data"
    }
   ],
   "source": [
    "# Importing libraries\n",
    "import pandas as pd\n",
    "import numpy as np\n",
    "from sklearn import preprocessing\n",
    "import matplotlib\n",
    "import matplotlib.pyplot as plt\n",
    "import seaborn as sns\n",
    "\n",
    "matplotlib.style.use('fivethirtyeight')\n",
    "\n",
    "# Cria duas features, x1 e x2, com a primeira tendo outliers à esquerda e a segunda outliers à direita\n",
    "x = pd.DataFrame({\n",
    "\t# Distribution with lower outliers\n",
    "\t'x1': np.concatenate([np.random.normal(20, 2, 1000), np.random.normal(1, 2, 25)]),\n",
    "\t# Distribution with higher outliers\n",
    "\t'x2': np.concatenate([np.random.normal(30, 2, 1000), np.random.normal(50, 2, 25)]),\n",
    "})\n",
    "np.random.normal\n",
    "\n",
    "scaler = preprocessing.RobustScaler()\n",
    "robust_df = scaler.fit_transform(x)\n",
    "robust_df = pd.DataFrame(robust_df, columns =['x1', 'x2'])\n",
    "\n",
    "scaler = preprocessing.StandardScaler()\n",
    "standard_df = scaler.fit_transform(x)\n",
    "standard_df = pd.DataFrame(standard_df, columns =['x1', 'x2'])\n",
    "\n",
    "scaler = preprocessing.MinMaxScaler()\n",
    "minmax_df = scaler.fit_transform(x)\n",
    "minmax_df = pd.DataFrame(minmax_df, columns =['x1', 'x2'])\n",
    "\n",
    "fig, (ax1, ax2, ax3, ax4) = plt.subplots(ncols = 4, figsize =(20, 5))\n",
    "\n",
    "ax1.set_title('Before Scaling')\n",
    "sns.kdeplot(x['x1'], ax = ax1, color ='r')\n",
    "sns.kdeplot(x['x2'], ax = ax1, color ='b')\n",
    "\n",
    "ax2.set_title('After Robust Scaling')\n",
    "sns.kdeplot(robust_df['x1'], ax = ax2, color ='red')\n",
    "sns.kdeplot(robust_df['x2'], ax = ax2, color ='blue')\n",
    "\n",
    "ax3.set_title('After Standard Scaling')\n",
    "sns.kdeplot(standard_df['x1'], ax = ax3, color ='black')\n",
    "sns.kdeplot(standard_df['x2'], ax = ax3, color ='g')\n",
    "\n",
    "ax4.set_title('After Min-Max Scaling')\n",
    "sns.kdeplot(minmax_df['x1'], ax = ax4, color ='black')\n",
    "sns.kdeplot(minmax_df['x2'], ax = ax4, color ='g')\n",
    "\n",
    "plt.show()\n",
    "\n",
    "# Fonte: https://www.geeksforgeeks.org/standardscaler-minmaxscaler-and-robustscaler-techniques-ml/\n"
   ]
  },
  {
   "cell_type": "markdown",
   "metadata": {},
   "source": [
    "Scikit-learn Function |\tRange | Mean | When Use | Definition | Notes\n",
    "----------------------|-------|------|----------|------------|-------\n",
    "MinMaxScaler | 0 to 1 default, can override\t| varies | When want a light touch. | Subtracts the mimimum value in the column and then divides by the difference between the original maximum and original minimum. | Preserves the shape of the original distribution. Doesn't reduce the importance of outliers. Least disruptive to the information in the original data.\n",
    "RobustScaler |\tvaries | varies | Use if have outliers and don't want them to have much influence. \t| Standardizes a feature by removing the median and dividing each feature by the interquartile range. | Outliers have less influence than with MinMaxScaler. Range is larger than MinMaxScaler or StandardScaler.\n",
    "StandardScaler | varies |0| When need features with zero mean and unit standard deviation | Standardizes a feature by removing the mean and dividing each value by the standard deviation.  | Results in a distribution with a standard deviation equal to 1 (and variance equal to 1). If you have outliers in your feature, using this will scale most of the data to a small interval. \n",
    "\n",
    "<br>\n",
    "https://docs.google.com/spreadsheets/d/1woVi7wq13628HJ-tN6ApaRGVZ85OdmHsDBKLAf5ylaQ/edit#gid=0\n"
   ]
  },
  {
   "cell_type": "markdown",
   "metadata": {},
   "source": [
    "## Discretização\n",
    "Discretização, também conhecida como categorização ou binning, é o processo de traduzir uma __variável quantitativa__ em um conjunto de dois ou mais buckets __qualitativos__ (ou seja, categorias). Por exemplo, uma variável pode ser traduzida em quantis; os buckets seriam para saber se os números caíram nos primeiros 25% dos dados, entre o 25º e a mediana, etc. Nesse caso, haveria quatro valores distintos da versão bined dos dados.\n",
    "\n",
    "- <font size=4><b>[Binarizer](https://scikit-learn.org/stable/modules/generated/sklearn.preprocessing.Binarizer.html?highlight=binarizer#sklearn.preprocessing.Binarizer)</b></font> <br>\n",
    "Transformar valores para 0 ou 1 de acordo com um limite.\n",
    "<br>\n",
    "Valores maiores que o limite são mapeados para 1, enquanto valores menores ou iguais ao limite são mapeados para 0. Com o limite padrão de 0, somente valores positivos são mapeados para 1."
   ]
  },
  {
   "cell_type": "code",
   "execution_count": 55,
   "metadata": {},
   "outputs": [],
   "source": [
    "from sklearn.preprocessing import Binarizer"
   ]
  },
  {
   "cell_type": "code",
   "execution_count": 56,
   "metadata": {},
   "outputs": [
    {
     "name": "stdout",
     "output_type": "stream",
     "text": [
      "[[0.]\n",
      " [0.]\n",
      " [0.]\n",
      " [0.]\n",
      " [1.]\n",
      " [1.]]\n",
      " \n",
      "1.5\n"
     ]
    }
   ],
   "source": [
    "# Vamos criar dados numéricos como exemplo.\n",
    "X = np.array([[-1.0], \n",
    "              [0.75], \n",
    "              [0.99], \n",
    "              [1.01], \n",
    "              [1.76],\n",
    "              [2.97]])\n",
    "\n",
    "# Instanciando o encoder.\n",
    "binarizador = Binarizer(threshold=1.5)\n",
    "\n",
    "# Treinando o encoder e transformando os dados de entrada.\n",
    "X_binary = binarizador.fit_transform(X)\n",
    "\n",
    "# Mostrando o resultado.\n",
    "print(X_binary)\n",
    "print(' ')\n",
    "print(binarizador.threshold)"
   ]
  },
  {
   "cell_type": "markdown",
   "metadata": {},
   "source": [
    "- <font size=4><b>[KBinsDiscretizer](https://scikit-learn.org/stable/modules/generated/sklearn.preprocessing.KBinsDiscretizer.html?highlight=kbinsdiscretizer#sklearn.preprocessing.KBinsDiscretizer)</b></font> <br>\n",
    "Converte dados contínuos em k grupos e já aplica um encoding (ordinal ou one-hot)"
   ]
  },
  {
   "cell_type": "code",
   "execution_count": 2,
   "metadata": {},
   "outputs": [],
   "source": [
    "from sklearn.preprocessing import KBinsDiscretizer\n",
    "import numpy as np"
   ]
  },
  {
   "cell_type": "code",
   "execution_count": 5,
   "metadata": {},
   "outputs": [
    {
     "name": "stdout",
     "output_type": "stream",
     "text": [
      "[[1. 0. 0.]\n",
      " [1. 0. 0.]\n",
      " [0. 1. 0.]\n",
      " [0. 1. 0.]\n",
      " [0. 0. 1.]\n",
      " [0. 0. 1.]]\n",
      " \n",
      "3\n"
     ]
    }
   ],
   "source": [
    "# Vamos criar dados numéricos como exemplo.\n",
    "X = np.array([[-1.0], \n",
    "              [0.75], \n",
    "              [0.99], \n",
    "              [1.01], \n",
    "              [1.76],\n",
    "              [2.97]])\n",
    "\n",
    "# Instanciando o encoder.\n",
    "k_binarizador = KBinsDiscretizer(n_bins=3, encode='onehot-dense')\n",
    "\n",
    "# Treinando o encoder e transformando os dados de entrada.\n",
    "X_multiclass = k_binarizador.fit_transform(X)\n",
    "\n",
    "# Mostrando o resultado.\n",
    "print(X_multiclass)\n",
    "print(' ')\n",
    "print(k_binarizador.n_bins)"
   ]
  },
  {
   "cell_type": "markdown",
   "metadata": {},
   "source": [
    "- <font size=4><b>[Usando Decision Tree](https://towardsdatascience.com/discretisation-using-decision-trees-21910483fa4b)</b></font> <br>"
   ]
  },
  {
   "cell_type": "markdown",
   "metadata": {},
   "source": [
    "# Feature Engineering\n",
    "<img src=\"images/pre-processing_order.png\" width=600>"
   ]
  },
  {
   "cell_type": "markdown",
   "metadata": {},
   "source": [
    "- <font size=4><b>[PolynomialFeatures](https://scikit-learn.org/stable/modules/generated/sklearn.preprocessing.PolynomialFeatures.html?highlight=from%20sklearn%20preprocessing%20import%20polynomialfeatures)</b></font>\n",
    "<br><br>\n",
    "\n",
    "Gera uma nova matriz de features consistindo de todas as combinações polinomiais das features com grau menor e igual ao grau especificado. Por exemplo, se uma amostra de entrada é bidimensional e da forma $[a, b]$, os recursos polinomiais de grau 2 são $[1, a, b, a^2, ab, b^2]$."
   ]
  },
  {
   "cell_type": "code",
   "execution_count": 6,
   "metadata": {},
   "outputs": [],
   "source": [
    "from sklearn.preprocessing import PolynomialFeatures"
   ]
  },
  {
   "cell_type": "code",
   "execution_count": 7,
   "metadata": {},
   "outputs": [
    {
     "name": "stdout",
     "output_type": "stream",
     "text": [
      "[[  1.  -3.   9. -27.]\n",
      " [  1.  -2.   4.  -8.]\n",
      " [  1.  -1.   1.  -1.]\n",
      " [  1.   0.   0.   0.]\n",
      " [  1.   1.   1.   1.]\n",
      " [  1.   2.   4.   8.]\n",
      " [  1.   3.   9.  27.]]\n",
      " \n",
      "3\n"
     ]
    }
   ],
   "source": [
    "# Vamos criar dados numéricos como exemplo. \n",
    "X = np.array([[-3.0],\n",
    "              [-2.0], \n",
    "              [-1.0], \n",
    "              [0.0], \n",
    "              [1.0], \n",
    "              [2.0],\n",
    "              [3.0]])\n",
    "\n",
    "# Instanciando o encoder.\n",
    "cubic = PolynomialFeatures(degree=3)\n",
    "\n",
    "# Treinando o encoder e transformando os dados de entrada.\n",
    "X_square = cubic.fit_transform(X)\n",
    "\n",
    "# Mostrando o resultado.\n",
    "print(X_square)\n",
    "print(' ')\n",
    "print(cubic.degree)"
   ]
  },
  {
   "cell_type": "markdown",
   "metadata": {},
   "source": [
    "- <font size=4><b>[PowerTransformer](https://scikit-learn.org/stable/modules/generated/sklearn.preprocessing.PowerTransformer.html)</b></font>\n",
    "<br><br>\n",
    "Aplica uma transformação de potência para tornar os dados mais Gaussianos.\n",
    "\n",
    "Transformações de potência são uma família de transformações paramétricas e monotônicas que são aplicadas para tornar os dados mais gaussianos e com isso estabilizar a variância e minimizar a assimetria.. Isso é útil para modelar problemas relacionados à heterocedasticidade (variância não constante) ou outras situações em que a normalidade é desejada.\n",
    "\n",
    "Atualmente, o PowerTransformer suporta a transformação Box-Cox e a transformação Yeo-Johnson. O parâmetro $\\lambda$ ideal para estabilizar a variância e minimizar a assimetria é estimado através da máxima verossimilhança.\n",
    "\n",
    "<img align=\"center\" src=\"https://encrypted-tbn0.gstatic.com/images?q=tbn:ANd9GcRkHjrl213TAXMJVBHK3yVaRLxxi-_dUqPJxg&usqp=CAU\">\n",
    "\n",
    "Neste procedimento, $\\lambda$ é estimado a partir dos dados. Como o parâmetro de interesse está no expoente, esse tipo de transformação é chamado de transformação de potência. Alguns valores de $\\lambda$ mapeiam para transformações comuns, como:\n",
    "-  $\\lambda=1$ (sem transformação),\n",
    "- $\\lambda=0$ (log),\n",
    "- $\\lambda=0.5$ (raiz quadrada) e \n",
    "- $\\lambda=-1$ (inverso).\n",
    "\n",
    "Como você pode ver, a transformação Box-Cox é bastante flexível em sua capacidade de lidar com muitas distribuições de dados diferentes.\n",
    "\n",
    "O **Box-Cox** exige que os **dados de entrada sejam estritamente positivos**, enquanto o **Yeo-Johnson suporta dados positivos ou negativos**.\n",
    "\n",
    "Essas duas transformações não são supervisionadas, pois, nesta aplicação, o resultado não é usado nos cálculos. Embora a transformação possa melhorar a distribuição de atributos, não há garantia de melhorar o modelo. No entanto, há uma variedade de modelos paramétricos que utilizam cálculos polinomiais nos dados de atributos, como a maioria dos modelos lineares, redes neurais e SVM. Nessas situações, uma distribuição de atributos distorcida pode ter um efeito prejudicial sobre esses modelos, uma vez que as caudas da distribuição podem dominar os cálculos subjacentes.\n"
   ]
  },
  {
   "cell_type": "code",
   "execution_count": 25,
   "metadata": {},
   "outputs": [
    {
     "data": {
      "text/html": [
       "<div>\n",
       "<style scoped>\n",
       "    .dataframe tbody tr th:only-of-type {\n",
       "        vertical-align: middle;\n",
       "    }\n",
       "\n",
       "    .dataframe tbody tr th {\n",
       "        vertical-align: top;\n",
       "    }\n",
       "\n",
       "    .dataframe thead th {\n",
       "        text-align: right;\n",
       "    }\n",
       "</style>\n",
       "<table border=\"1\" class=\"dataframe\">\n",
       "  <thead>\n",
       "    <tr style=\"text-align: right;\">\n",
       "      <th></th>\n",
       "      <th>fixed acidity</th>\n",
       "      <th>volatile acidity</th>\n",
       "      <th>citric acid</th>\n",
       "      <th>residual sugar</th>\n",
       "      <th>chlorides</th>\n",
       "      <th>free sulfur dioxide</th>\n",
       "      <th>total sulfur dioxide</th>\n",
       "      <th>density</th>\n",
       "      <th>pH</th>\n",
       "      <th>sulphates</th>\n",
       "      <th>alcohol</th>\n",
       "      <th>quality</th>\n",
       "    </tr>\n",
       "  </thead>\n",
       "  <tbody>\n",
       "    <tr>\n",
       "      <th>0</th>\n",
       "      <td>7.4</td>\n",
       "      <td>0.70</td>\n",
       "      <td>0.00</td>\n",
       "      <td>1.9</td>\n",
       "      <td>0.076</td>\n",
       "      <td>11.0</td>\n",
       "      <td>34.0</td>\n",
       "      <td>0.9978</td>\n",
       "      <td>3.51</td>\n",
       "      <td>0.56</td>\n",
       "      <td>9.4</td>\n",
       "      <td>5</td>\n",
       "    </tr>\n",
       "    <tr>\n",
       "      <th>1</th>\n",
       "      <td>7.8</td>\n",
       "      <td>0.88</td>\n",
       "      <td>0.00</td>\n",
       "      <td>2.6</td>\n",
       "      <td>0.098</td>\n",
       "      <td>25.0</td>\n",
       "      <td>67.0</td>\n",
       "      <td>0.9968</td>\n",
       "      <td>3.20</td>\n",
       "      <td>0.68</td>\n",
       "      <td>9.8</td>\n",
       "      <td>5</td>\n",
       "    </tr>\n",
       "    <tr>\n",
       "      <th>2</th>\n",
       "      <td>7.8</td>\n",
       "      <td>0.76</td>\n",
       "      <td>0.04</td>\n",
       "      <td>2.3</td>\n",
       "      <td>0.092</td>\n",
       "      <td>15.0</td>\n",
       "      <td>54.0</td>\n",
       "      <td>0.9970</td>\n",
       "      <td>3.26</td>\n",
       "      <td>0.65</td>\n",
       "      <td>9.8</td>\n",
       "      <td>5</td>\n",
       "    </tr>\n",
       "    <tr>\n",
       "      <th>3</th>\n",
       "      <td>11.2</td>\n",
       "      <td>0.28</td>\n",
       "      <td>0.56</td>\n",
       "      <td>1.9</td>\n",
       "      <td>0.075</td>\n",
       "      <td>17.0</td>\n",
       "      <td>60.0</td>\n",
       "      <td>0.9980</td>\n",
       "      <td>3.16</td>\n",
       "      <td>0.58</td>\n",
       "      <td>9.8</td>\n",
       "      <td>6</td>\n",
       "    </tr>\n",
       "    <tr>\n",
       "      <th>4</th>\n",
       "      <td>7.4</td>\n",
       "      <td>0.70</td>\n",
       "      <td>0.00</td>\n",
       "      <td>1.9</td>\n",
       "      <td>0.076</td>\n",
       "      <td>11.0</td>\n",
       "      <td>34.0</td>\n",
       "      <td>0.9978</td>\n",
       "      <td>3.51</td>\n",
       "      <td>0.56</td>\n",
       "      <td>9.4</td>\n",
       "      <td>5</td>\n",
       "    </tr>\n",
       "  </tbody>\n",
       "</table>\n",
       "</div>"
      ],
      "text/plain": [
       "   fixed acidity  volatile acidity  citric acid  residual sugar  chlorides  \\\n",
       "0            7.4              0.70         0.00             1.9      0.076   \n",
       "1            7.8              0.88         0.00             2.6      0.098   \n",
       "2            7.8              0.76         0.04             2.3      0.092   \n",
       "3           11.2              0.28         0.56             1.9      0.075   \n",
       "4            7.4              0.70         0.00             1.9      0.076   \n",
       "\n",
       "   free sulfur dioxide  total sulfur dioxide  density    pH  sulphates  \\\n",
       "0                 11.0                  34.0   0.9978  3.51       0.56   \n",
       "1                 25.0                  67.0   0.9968  3.20       0.68   \n",
       "2                 15.0                  54.0   0.9970  3.26       0.65   \n",
       "3                 17.0                  60.0   0.9980  3.16       0.58   \n",
       "4                 11.0                  34.0   0.9978  3.51       0.56   \n",
       "\n",
       "   alcohol  quality  \n",
       "0      9.4        5  \n",
       "1      9.8        5  \n",
       "2      9.8        5  \n",
       "3      9.8        6  \n",
       "4      9.4        5  "
      ]
     },
     "execution_count": 25,
     "metadata": {},
     "output_type": "execute_result"
    }
   ],
   "source": [
    "df = pd.read_csv(\"../data/winequality-red.csv\")\n",
    "df.head()"
   ]
  },
  {
   "cell_type": "code",
   "execution_count": null,
   "metadata": {},
   "outputs": [
    {
     "data": {
      "text/plain": [
       "<seaborn.axisgrid.FacetGrid at 0x7f454dcc1340>"
      ]
     },
     "metadata": {},
     "output_type": "display_data"
    },
    {
     "data": {
      "image/png": "[encoded data removed]",
      "text/plain": [
       "<Figure size 360x360 with 1 Axes>"
      ]
     },
     "metadata": {},
     "output_type": "display_data"
    }
   ],
   "source": [
    "sns.displot(df, x = 'sulphates').set(title = 'Histogram of Sulphates')"
   ]
  },
  {
   "cell_type": "code",
   "execution_count": 29,
   "metadata": {},
   "outputs": [
    {
     "name": "stdout",
     "output_type": "stream",
     "text": [
      "Valor do Lambda : [-4.03103354]\n"
     ]
    }
   ],
   "source": [
    "from sklearn.preprocessing import PowerTransformer\n",
    "\n",
    "# Yoe-Johnson Transformation \n",
    "pt = PowerTransformer(method = 'yeo-johnson')\n",
    "x_yj = pt.fit_transform(df[['sulphates']])\n",
    "print(f\"Valor do Lambda : {pt.lambdas_}\")"
   ]
  },
  {
   "cell_type": "code",
   "execution_count": null,
   "metadata": {},
   "outputs": [
    {
     "data": {
      "text/plain": [
       "<seaborn.axisgrid.FacetGrid at 0x7f457652ea00>"
      ]
     },
     "metadata": {},
     "output_type": "display_data"
    },
    {
     "data": {
      "image/png": "[encoded data removed]",
      "text/plain": [
       "<Figure size 419.15x360 with 1 Axes>"
      ]
     },
     "metadata": {},
     "output_type": "display_data"
    }
   ],
   "source": [
    "sns.displot(x_yj).set(title = 'Yeo-Johnson')"
   ]
  },
  {
   "cell_type": "code",
   "execution_count": 37,
   "metadata": {},
   "outputs": [
    {
     "name": "stdout",
     "output_type": "stream",
     "text": [
      "Valor do Lambda : -1.06\n"
     ]
    },
    {
     "data": {
      "text/plain": [
       "<seaborn.axisgrid.FacetGrid at 0x7fa78ce0b640>"
      ]
     },
     "execution_count": 37,
     "metadata": {},
     "output_type": "execute_result"
    },
    {
     "data": {
      "image/png": "[encoded data removed]",
      "text/plain": [
       "<Figure size 402.25x360 with 1 Axes>"
      ]
     },
     "metadata": {
      "needs_background": "light"
     },
     "output_type": "display_data"
    }
   ],
   "source": [
    "# Box-Cox Transformation \n",
    "pt = PowerTransformer(method = 'box-cox')\n",
    "x_bc = pt.fit_transform(df[['sulphates']])\n",
    "print(f\"Valor do Lambda : {pt.lambdas_[0]:.2f}\")\n",
    "sns.displot(x_yj).set(title = f'Box-Cox')"
   ]
  },
  {
   "cell_type": "code",
   "execution_count": 19,
   "metadata": {},
   "outputs": [
    {
     "data": {
      "image/png": "[encoded data removed]",
      "text/plain": [
       "<Figure size 1080x2160 with 24 Axes>"
      ]
     },
     "metadata": {
      "needs_background": "light"
     },
     "output_type": "display_data"
    }
   ],
   "source": [
    "# Author: Eric Chang <ericchang2017@u.northwestern.edu>\n",
    "#         Nicolas Hug <contact@nicolas-hug.com>\n",
    "# License: BSD 3 clause\n",
    "\n",
    "import numpy as np\n",
    "import matplotlib.pyplot as plt\n",
    "\n",
    "from sklearn.preprocessing import PowerTransformer\n",
    "from sklearn.preprocessing import QuantileTransformer\n",
    "from sklearn.model_selection import train_test_split\n",
    "\n",
    "\n",
    "N_SAMPLES = 1000\n",
    "FONT_SIZE = 14\n",
    "BINS = 30\n",
    "\n",
    "\n",
    "rng = np.random.RandomState(304)\n",
    "bc = PowerTransformer(method=\"box-cox\")\n",
    "yj = PowerTransformer(method=\"yeo-johnson\")\n",
    "# n_quantiles is set to the training set size rather than the default value\n",
    "# to avoid a warning being raised by this example\n",
    "qt = QuantileTransformer(\n",
    "    n_quantiles=500, output_distribution=\"normal\", random_state=rng\n",
    ")\n",
    "size = (N_SAMPLES, 1)\n",
    "\n",
    "\n",
    "# lognormal distribution\n",
    "X_lognormal = rng.lognormal(size=size)\n",
    "\n",
    "# chi-squared distribution\n",
    "df = 3\n",
    "X_chisq = rng.chisquare(df=df, size=size)\n",
    "\n",
    "# weibull distribution\n",
    "a = 50\n",
    "X_weibull = rng.weibull(a=a, size=size)\n",
    "\n",
    "# gaussian distribution\n",
    "loc = 100\n",
    "X_gaussian = rng.normal(loc=loc, size=size)\n",
    "\n",
    "# uniform distribution\n",
    "X_uniform = rng.uniform(low=0, high=1, size=size)\n",
    "\n",
    "# bimodal distribution\n",
    "loc_a, loc_b = 100, 105\n",
    "X_a, X_b = rng.normal(loc=loc_a, size=size), rng.normal(loc=loc_b, size=size)\n",
    "X_bimodal = np.concatenate([X_a, X_b], axis=0)\n",
    "\n",
    "\n",
    "# create plots\n",
    "distributions = [\n",
    "    (\"Lognormal\", X_lognormal),\n",
    "    (\"Chi-squared\", X_chisq),\n",
    "    (\"Weibull\", X_weibull),\n",
    "    (\"Gaussian\", X_gaussian),\n",
    "    (\"Uniform\", X_uniform),\n",
    "    (\"Bimodal\", X_bimodal),\n",
    "]\n",
    "\n",
    "colors = [\"#D81B60\", \"#0188FF\", \"#FFC107\", \"#B7A2FF\", \"#000000\", \"#2EC5AC\"]\n",
    "\n",
    "fig, axes = plt.subplots(nrows=8, ncols=3, figsize=(15,30))\n",
    "axes = axes.flatten()\n",
    "axes_idxs = [\n",
    "    (0, 3, 6, 9),\n",
    "    (1, 4, 7, 10),\n",
    "    (2, 5, 8, 11),\n",
    "    (12, 15, 18, 21),\n",
    "    (13, 16, 19, 22),\n",
    "    (14, 17, 20, 23),\n",
    "]\n",
    "axes_list = [(axes[i], axes[j], axes[k], axes[l]) for (i, j, k, l) in axes_idxs]\n",
    "\n",
    "\n",
    "for distribution, color, axes in zip(distributions, colors, axes_list):\n",
    "    name, X = distribution\n",
    "    X_train, X_test = train_test_split(X, test_size=0.5)\n",
    "\n",
    "    # perform power transforms and quantile transform\n",
    "    X_trans_bc = bc.fit(X_train).transform(X_test)\n",
    "    lmbda_bc = round(bc.lambdas_[0], 2)\n",
    "    X_trans_yj = yj.fit(X_train).transform(X_test)\n",
    "    lmbda_yj = round(yj.lambdas_[0], 2)\n",
    "    # X_trans_qt = qt.fit(X_train).transform(X_test)\n",
    "\n",
    "    ax_original, ax_bc, ax_yj, ax_qt = axes\n",
    "\n",
    "    ax_original.hist(X_train, color=color, bins=BINS)\n",
    "    ax_original.set_title(name, fontsize=FONT_SIZE)\n",
    "    ax_original.tick_params(axis=\"both\", which=\"major\", labelsize=FONT_SIZE)\n",
    "\n",
    "    for ax, X_trans, meth_name, lmbda in zip(\n",
    "        (ax_bc, ax_yj),\n",
    "        (X_trans_bc, X_trans_yj),\n",
    "        (\"Box-Cox\", \"Yeo-Johnson\"),\n",
    "        (lmbda_bc, lmbda_yj),\n",
    "        # (ax_bc, ax_yj, ax_qt),\n",
    "        # (X_trans_bc, X_trans_yj, X_trans_qt),\n",
    "        # (\"Box-Cox\", \"Yeo-Johnson\", \"Quantile transform\"),\n",
    "        # (lmbda_bc, lmbda_yj, None),\n",
    "    ):\n",
    "        ax.hist(X_trans, color=color, bins=BINS)\n",
    "        title = \"After {}\".format(meth_name)\n",
    "        if lmbda is not None:\n",
    "            title += \"\\n$\\\\lambda$ = {}\".format(lmbda)\n",
    "        ax.set_title(title, fontsize=FONT_SIZE)\n",
    "        ax.tick_params(axis=\"both\", which=\"major\", labelsize=FONT_SIZE)\n",
    "        ax.set_xlim([-3.5, 3.5])\n",
    "\n",
    "\n",
    "plt.tight_layout()\n",
    "plt.show()\n",
    "\n",
    "# Fonte: https://scikit-learn.org/stable/auto_examples/preprocessing/plot_map_data_to_normal.html#sphx-glr-auto-examples-preprocessing-plot-map-data-to-normal-py"
   ]
  },
  {
   "cell_type": "markdown",
   "metadata": {},
   "source": [
    "#### Como utilizar essas classes com o cross-validation?\n",
    "\n",
    "## Observação"
   ]
  },
  {
   "cell_type": "markdown",
   "metadata": {},
   "source": [
    "É fácil a gente, sem querer, usar o pré-processamento de dados antes de separar treino e teste, e acabarmos usando dados que não estariam disponíveis na hora da previsão real.\n",
    "\n",
    "Nós já discutimos extensamente esse problema, porém vale dar nome a ele. O scikit-learn chama isso de __data leakage__ (vazamento de dados). A documentação dele também dá uma regra geral de como evitar esse problema.\n",
    "\n",
    "<div class=\"alert alert-block alert-warning\">\n",
    "    Uma causa comum de data leakage é não deixar os conjuntos de treino e teste separados ANTES. Dados de teste nunca devem ser usados para fazer decisões sobre o modelo. <b>A regra geral é nunca usar método \"fit\" em dados de teste</b>. Enquanto isso pode parecer óbvio, é fácil de deixar passar em alguns casos, por exemplo ao aplicar alguns passos de pré-processamento. \n",
    "    <br>\n",
    "    - Tradução Livre de \"Scikit-learn: common pitfalls\"\n",
    "</div>\n",
    "\n",
    "No curso \"Learning from data\", isso é chamado de __data snooping__, que consiste do seguinte princípio: \n",
    "<div class=\"alert alert-block alert-warning\">\n",
    "    <b>Se um conjunto de dados afetou qualquer passo no processo de aprendizado, a sua capacidade de avaliar os resultados foi comprometida.</b> \n",
    "    <br>\n",
    "    - Tradução Livre do livro \"Learning from data\"\n",
    "</div>\n",
    "\n",
    "\n",
    "\n",
    "Os pré-processamentos que são mais comuns de a gente cometer data leakage/data snooping:\n",
    "- StandardScaler\n",
    "- MinMaxScaler\n",
    "- SimpleImputer\n",
    "\n",
    "Uma forma de evitarmos esse tipo de erro é criando um __Pipeline__. Veremos essa classe nas próximas aulas.\n",
    "\n",
    "## Bibliografia e Aprofundamento dos temas:\n",
    "- [Scikit-Learn: common pitfalls](https://scikit-learn.org/0.24/common_pitfalls.html)\n",
    "- [Learning from data](https://work.caltech.edu/telecourse)\n",
    "- [Efeito dos scalers em vários tipos de distribuição](https://towardsdatascience.com/scale-standardize-or-normalize-with-scikit-learn-6ccc7d176a02)\n",
    "- [Efeito dos scaler nos dados](https://towardsdatascience.com/feature-scaling-effect-of-different-scikit-learn-scalers-deep-dive-8dec775d4946)\n",
    "- [LabelEncoder x OrdinalEncoder](https://datascience.stackexchange.com/questions/39317/difference-between-ordinalencoder-and-labelencoder)\n",
    "- [Imputation Strategies Sklearn](https://scikit-learn.org/stable/modules/impute.html)\n",
    "- [Classes de Preprocessing do Sklearn](https://scikit-learn.org/stable/modules/classes.html#module-sklearn.preprocessing)\n",
    "- [Effect of transforming the targets in regression mode](https://scikit-learn.org/stable/auto_examples/compose/plot_transformed_target.html#sphx-glr-auto-examples-compose-plot-transformed-target-py)\n",
    "- [Feature Engineering and Feature Selection](https://www.kaggle.com/code/nkitgupta/feature-engineering-and-feature-selection/notebook)\n",
    "- [Data Pre-processing](https://medium.com/@patel.rd299/data-science-data-preprocessing-using-data-reduction-techniques-2db69688fb5c)\n",
    "- [Pre-processing](https://machinelearningmastery.com/data-preparation-techniques-for-machine-learning/)\n",
    "- [Pre-processing](https://serokell.io/blog/data-preprocessing)"
   ]
  },
  {
   "cell_type": "markdown",
   "metadata": {},
   "source": [
    "## Exercícios\n",
    "Utilize o dataset de [preço de venda dos imóveis](https://www.kaggle.com/c/house-prices-advanced-regression-techniques/data) para treinar as transformações mencionadas em aula. \n",
    "\n",
    "Verifique como é a distribuição dos dados de target e ajuste se necessário.\n"
   ]
  },
  {
   "cell_type": "code",
   "execution_count": null,
   "metadata": {},
   "outputs": [],
   "source": [
    "from sklearn.datasets import fetch_openml\n",
    "\n",
    "X, y = fetch_openml(name=\"house_prices\", as_frame=True, return_X_y=True)"
   ]
  },
  {
   "cell_type": "markdown",
   "metadata": {},
   "source": []
  }
 ],
 "metadata": {
  "kernelspec": {
   "display_name": "Python 3 (ipykernel)",
   "language": "python",
   "name": "python3"
  },
  "language_info": {
   "codemirror_mode": {
    "name": "ipython",
    "version": 3
   },
   "file_extension": ".py",
   "mimetype": "text/x-python",
   "name": "python",
   "nbconvert_exporter": "python",
   "pygments_lexer": "ipython3",
   "version": "3.9.5"
  }
 },
 "nbformat": 4,
 "nbformat_minor": 2
}
