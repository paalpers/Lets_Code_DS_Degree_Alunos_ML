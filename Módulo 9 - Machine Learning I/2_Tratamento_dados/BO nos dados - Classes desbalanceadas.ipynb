{
 "cells": [
  {
   "cell_type": "markdown",
   "metadata": {},
   "source": [
    "# Balanceamento dos dados\n",
    "\n",
    "Suponha que você esteja trabalhando em uma empresa de transações bancárias que possui 3% das transações fraudulentas e seu modelo atingiu uma acurácia de 95%. O modelo produzido é bom?\n",
    "\n",
    "- transações = 10000\n",
    "- transações ok = 9700\n",
    "- transações fraudulentas = 300"
   ]
  },
  {
   "cell_type": "markdown",
   "metadata": {},
   "source": [
    "<br>\n",
    "<br>\n",
    "<br>\n",
    "<br>\n",
    "<br>\n",
    "<br>\n",
    "<br>\n",
    "<br>\n",
    "<br>\n",
    "<br>\n",
    "<br>\n",
    "<br>\n"
   ]
  },
  {
   "cell_type": "markdown",
   "metadata": {},
   "source": [
    "Se classificássemos todas as transações como não fraudulentas?\n",
    "$$Acurácia = \\frac{TP + TN}{TP+FP+TN+FN} = \\frac{0+9700}{0+0+9700+300} = 0.97$$\n",
    "\n",
    "<br>\n",
    "Alimentar dados desequilibrados ao seu classificador pode torná-lo tendencioso em favor da classe majoritária, simplesmente porque ele não tem dados suficientes para aprender sobre a minoria.\n",
    "É devido à isso que precisamos balancear as classes antes de treinar um modelo. As duas formas de fazermos isso são:\n"
   ]
  },
  {
   "cell_type": "markdown",
   "metadata": {},
   "source": [
    "## Undersampling x Oversampling\n",
    "\n",
    "1. Undersampling: diminuir a quantidade de amostras da classe majoritária para igualar a minoritária\n",
    "2. Upsampling: aumentar a quantidade de amostras da classe minoritária para igualar com a majoritária\n",
    "\n",
    "![Title](images/resampling.png)\n",
    "\n",
    "*OBSERVAÇÃO*: fazer balanceamento apenas entre as amostras de treinamento!!!"
   ]
  },
  {
   "cell_type": "code",
   "execution_count": 12,
   "metadata": {},
   "outputs": [],
   "source": [
    "import pandas as pd\n",
    "import numpy as np\n",
    "import matplotlib.pyplot as plt\n",
    "import seaborn as sns\n",
    "from sklearn.model_selection import train_test_split \n",
    "\n",
    "import warnings\n",
    "warnings.filterwarnings(\"ignore\")\n",
    "\n",
    "df = pd.read_csv(\"../data/bank-full.csv\")\n",
    "\n",
    "# Separar feature e target\n",
    "y = df['Target'].copy()\n",
    "X = df.drop('Target', axis=1).copy()\n",
    "X = df.select_dtypes(include='number').copy()\n",
    "\n",
    "# particionar dados\n",
    "X_train, X_test, y_train, y_test = train_test_split(X, y, stratify=y, test_size=0.2, random_state=42) "
   ]
  },
  {
   "cell_type": "markdown",
   "metadata": {},
   "source": [
    "## [Oversampling](https://imbalanced-learn.org/stable/over_sampling.html)"
   ]
  },
  {
   "cell_type": "markdown",
   "metadata": {},
   "source": [
    "- __[RandomOverSampler](https://imbalanced-learn.org/stable/references/generated/imblearn.over_sampling.RandomOverSampler.html#imblearn.over_sampling.RandomOverSampler)__ <br>\n",
    "Uma maneira de combater esse problema é gerar novas amostras nas classes que estão sub-representadas. A estratégia mais ingênua é gerar novas amostras por amostragem aleatória com reposição das amostras atuais disponíveis.\n",
    "\n",
    "<img src=\"images/comparison_over_sampling_002.png\" width=\"500px\"/>\n",
    "\n",
    "Como temos apenas uma repetição das amostras os novos pontos aparecem em cima dos antigos."
   ]
  },
  {
   "cell_type": "code",
   "execution_count": 9,
   "metadata": {},
   "outputs": [
    {
     "name": "stdout",
     "output_type": "stream",
     "text": [
      "Original dataset shape Counter({'no': 31937, 'yes': 4231})\n",
      "Original dataset shape Counter({'no': 31937, 'yes': 31937})\n"
     ]
    }
   ],
   "source": [
    "from imblearn.over_sampling import RandomOverSampler \n",
    "from collections import Counter\n",
    "\n",
    "print('Original dataset shape %s' % Counter(y_train))\n",
    "sm = RandomOverSampler(random_state=42)\n",
    "X_res, y_res = sm.fit_resample(X_train, y_train)\n",
    "print('Original dataset shape %s' % Counter(y_res))"
   ]
  },
  {
   "cell_type": "code",
   "execution_count": 10,
   "metadata": {},
   "outputs": [
    {
     "data": {
      "text/html": [
       "<div>\n",
       "<style scoped>\n",
       "    .dataframe tbody tr th:only-of-type {\n",
       "        vertical-align: middle;\n",
       "    }\n",
       "\n",
       "    .dataframe tbody tr th {\n",
       "        vertical-align: top;\n",
       "    }\n",
       "\n",
       "    .dataframe thead th {\n",
       "        text-align: right;\n",
       "    }\n",
       "</style>\n",
       "<table border=\"1\" class=\"dataframe\">\n",
       "  <thead>\n",
       "    <tr style=\"text-align: right;\">\n",
       "      <th></th>\n",
       "      <th>age</th>\n",
       "      <th>job</th>\n",
       "      <th>marital</th>\n",
       "      <th>education</th>\n",
       "      <th>default</th>\n",
       "      <th>balance</th>\n",
       "      <th>housing</th>\n",
       "      <th>loan</th>\n",
       "      <th>contact</th>\n",
       "      <th>day</th>\n",
       "      <th>month</th>\n",
       "      <th>duration</th>\n",
       "      <th>campaign</th>\n",
       "      <th>pdays</th>\n",
       "      <th>previous</th>\n",
       "      <th>poutcome</th>\n",
       "    </tr>\n",
       "  </thead>\n",
       "  <tbody>\n",
       "    <tr>\n",
       "      <th>0</th>\n",
       "      <td>36</td>\n",
       "      <td>technician</td>\n",
       "      <td>divorced</td>\n",
       "      <td>secondary</td>\n",
       "      <td>no</td>\n",
       "      <td>861</td>\n",
       "      <td>no</td>\n",
       "      <td>no</td>\n",
       "      <td>telephone</td>\n",
       "      <td>29</td>\n",
       "      <td>aug</td>\n",
       "      <td>140</td>\n",
       "      <td>2</td>\n",
       "      <td>-1</td>\n",
       "      <td>0</td>\n",
       "      <td>unknown</td>\n",
       "    </tr>\n",
       "    <tr>\n",
       "      <th>1</th>\n",
       "      <td>24</td>\n",
       "      <td>student</td>\n",
       "      <td>single</td>\n",
       "      <td>secondary</td>\n",
       "      <td>no</td>\n",
       "      <td>4126</td>\n",
       "      <td>no</td>\n",
       "      <td>no</td>\n",
       "      <td>cellular</td>\n",
       "      <td>5</td>\n",
       "      <td>apr</td>\n",
       "      <td>907</td>\n",
       "      <td>4</td>\n",
       "      <td>185</td>\n",
       "      <td>7</td>\n",
       "      <td>failure</td>\n",
       "    </tr>\n",
       "    <tr>\n",
       "      <th>2</th>\n",
       "      <td>44</td>\n",
       "      <td>technician</td>\n",
       "      <td>single</td>\n",
       "      <td>secondary</td>\n",
       "      <td>no</td>\n",
       "      <td>244</td>\n",
       "      <td>yes</td>\n",
       "      <td>no</td>\n",
       "      <td>cellular</td>\n",
       "      <td>12</td>\n",
       "      <td>aug</td>\n",
       "      <td>1735</td>\n",
       "      <td>4</td>\n",
       "      <td>-1</td>\n",
       "      <td>0</td>\n",
       "      <td>unknown</td>\n",
       "    </tr>\n",
       "    <tr>\n",
       "      <th>3</th>\n",
       "      <td>48</td>\n",
       "      <td>unemployed</td>\n",
       "      <td>married</td>\n",
       "      <td>secondary</td>\n",
       "      <td>no</td>\n",
       "      <td>0</td>\n",
       "      <td>no</td>\n",
       "      <td>no</td>\n",
       "      <td>telephone</td>\n",
       "      <td>31</td>\n",
       "      <td>jul</td>\n",
       "      <td>35</td>\n",
       "      <td>11</td>\n",
       "      <td>-1</td>\n",
       "      <td>0</td>\n",
       "      <td>unknown</td>\n",
       "    </tr>\n",
       "    <tr>\n",
       "      <th>4</th>\n",
       "      <td>38</td>\n",
       "      <td>technician</td>\n",
       "      <td>married</td>\n",
       "      <td>secondary</td>\n",
       "      <td>no</td>\n",
       "      <td>257</td>\n",
       "      <td>no</td>\n",
       "      <td>no</td>\n",
       "      <td>cellular</td>\n",
       "      <td>26</td>\n",
       "      <td>aug</td>\n",
       "      <td>57</td>\n",
       "      <td>10</td>\n",
       "      <td>-1</td>\n",
       "      <td>0</td>\n",
       "      <td>unknown</td>\n",
       "    </tr>\n",
       "  </tbody>\n",
       "</table>\n",
       "</div>"
      ],
      "text/plain": [
       "   age         job   marital  education default  balance housing loan  \\\n",
       "0   36  technician  divorced  secondary      no      861      no   no   \n",
       "1   24     student    single  secondary      no     4126      no   no   \n",
       "2   44  technician    single  secondary      no      244     yes   no   \n",
       "3   48  unemployed   married  secondary      no        0      no   no   \n",
       "4   38  technician   married  secondary      no      257      no   no   \n",
       "\n",
       "     contact  day month  duration  campaign  pdays  previous poutcome  \n",
       "0  telephone   29   aug       140         2     -1         0  unknown  \n",
       "1   cellular    5   apr       907         4    185         7  failure  \n",
       "2   cellular   12   aug      1735         4     -1         0  unknown  \n",
       "3  telephone   31   jul        35        11     -1         0  unknown  \n",
       "4   cellular   26   aug        57        10     -1         0  unknown  "
      ]
     },
     "execution_count": 10,
     "metadata": {},
     "output_type": "execute_result"
    }
   ],
   "source": [
    "X_res.head()"
   ]
  },
  {
   "cell_type": "markdown",
   "metadata": {},
   "source": [
    "Se repetir os dados é um problema podemos utilizar o parâmetro de `shrinkage` que controla a dispersão das novas amostras geradas.\n",
    "\n",
    "\n",
    "<img src=\"images/comparison_over_sampling_003.png\" width=\"500px\"/>"
   ]
  },
  {
   "cell_type": "markdown",
   "metadata": {},
   "source": [
    "- [SMOTE (Synthetic Minority Oversampling Technique)](https://imbalanced-learn.org/stable/references/generated/imblearn.over_sampling.SMOTE.html) <br>\n",
    "Enquanto o `RandomOverSampler` está sobre-amostrando duplicando algumas das amostras originais da classe minoritária, `SMOTE` e `ADASYN` geram novas amostras por interpolação. No entanto, o método de interpolação/geração novas amostras sintéticas diferem. <br> <br>\n",
    "\n",
    "A implementação básica do `SMOTE` não faz nenhuma distinção entre amostras fáceis e difíceis de serem classificadas e usam a regra dos vizinhos mais próximos para interpolar novos dados.\n",
    "<br> \n",
    "\n",
    "A ideia geral do __SMOTE__ é a geração de dados sintéticos entre cada amostra da __classe minoritária e seus “k” vizinhos mais próximos__. Ou seja, para cada uma das amostras da classe minoritária são localizados seus “k” vizinhos mais próximos (por padrão k = 5). Em seguida, é desenhada uma linha entre os pontos e seus vizinhos e um ponto aleatório é adicionado.\n",
    "\n",
    "<img src=\"https://miro.medium.com/max/875/1*CG712DHQL_ZMS3gAEGd_5w.jpeg\" text=\"https://towardsdatascience.com/smote-synthetic-data-augmentation-for-tabular-data-1ce28090debc\">\n",
    "\n",
    "Na imagem, o SMOTE foi aplicado em x1 considerando os 3 vizinhos mais próximos (x2, x3 e x4) para gerar os dados sintéticos s1, s2 e s3.\n",
    "\n",
    "Embora o SMOTE seja uma técnica que permite a geração de dados tabulares sintéticos, tal algoritmo por si só possui algumas limitações:\n",
    "-  __SMOTE trabalha apenas com dados contínuos__ (ou seja, não é projetado para gerar dados sintéticos categóricos)\n",
    "- os __dados sintéticos gerados são linearmente dependentes, o que pode causar um viés nos dados gerados__ e consequentemente produzir um modelo superajustado.\n",
    "- SMOTE não pode ter outliers"
   ]
  },
  {
   "cell_type": "code",
   "execution_count": 14,
   "metadata": {},
   "outputs": [
    {
     "name": "stdout",
     "output_type": "stream",
     "text": [
      "Original dataset shape Counter({'no': 31937, 'yes': 4231})\n",
      "Original dataset shape Counter({'no': 31937, 'yes': 31937})\n"
     ]
    }
   ],
   "source": [
    "from imblearn.over_sampling import SMOTE \n",
    "from collections import Counter\n",
    "\n",
    "print('Original dataset shape %s' % Counter(y_train))\n",
    "sm = SMOTE(random_state=42)\n",
    "X_res, y_res = sm.fit_resample(X_train, y_train)\n",
    "print('Original dataset shape %s' % Counter(y_res))"
   ]
  },
  {
   "cell_type": "markdown",
   "metadata": {},
   "source": [
    "- [ADASYN (Adaptive Synthetic)](https://imbalanced-learn.org/stable/references/generated/imblearn.over_sampling.ADASYN.html#imblearn.over_sampling.ADASYN)\n",
    "<br>\n",
    "\n",
    "O `ADASYN` se concentra em gerar amostras próximas às amostras originais que são classificadas erroneamente usando um classificador k-Nearest Neighbors.\n",
    "\n",
    "ADASYN é uma técnica baseada no algoritmo SMOTE para geração de dados sintéticos. A diferença entre ADASYN e SMOTE é que ADASYN implementa uma metodologia que detecta aquelas amostras da classe minoritária encontradas em espaços dominados pela classe majoritária, isto para gerar amostras nas áreas de menor densidade da classe minoritária. Ou seja, o ADASYN se concentra nas amostras da classe minoritária que são difíceis de classificar porque estão em uma área de baixa densidade.\n",
    "\n",
    "<img src=https://miro.medium.com/max/875/1*iXHQaRrdIJLRsxxjEnr67Q.jpeg text=\"https://towardsdatascience.com/smote-synthetic-data-augmentation-for-tabular-data-1ce28090debc\">\n",
    "\n",
    "No ADASYN, consideramos uma distribuição de densidade que decide o número de amostras sintéticas a serem geradas para um determinado ponto, enquanto no SMOTE há um peso uniforme para todos os pontos minoritários."
   ]
  },
  {
   "cell_type": "code",
   "execution_count": 15,
   "metadata": {},
   "outputs": [
    {
     "name": "stdout",
     "output_type": "stream",
     "text": [
      "Original dataset shape Counter({'no': 31937, 'yes': 4231})\n",
      "Original dataset shape Counter({'yes': 32921, 'no': 31937})\n"
     ]
    }
   ],
   "source": [
    "from imblearn.over_sampling import ADASYN \n",
    "from collections import Counter\n",
    "\n",
    "print('Original dataset shape %s' % Counter(y_train))\n",
    "sm = ADASYN(random_state=42)\n",
    "X_res, y_res = sm.fit_resample(X_train, y_train)\n",
    "print('Original dataset shape %s' % Counter(y_res))"
   ]
  },
  {
   "cell_type": "markdown",
   "metadata": {},
   "source": [
    "Nem o SMOTE nem ADASYN aceitam uma mistura de variáveis numéricas e categóricas (porquê?). Caso haja variáveis categóricas, pode-se usar uma extensão do SMOTE denominada [SMOTENC](https://imbalanced-learn.org/stable/references/generated/imblearn.over_sampling.SMOTENC.html#imblearn.over_sampling.SMOTENC). Se há apenas variáveis categóricas é indicado usar a extensão [SMOTEN](https://imbalanced-learn.org/stable/references/generated/imblearn.over_sampling.SMOTEN.html#imblearn.over_sampling.SMOTEN) <br>\n",
    "\n",
    "\n",
    "#### SMOTE x ADASYN\n",
    "\n",
    "<img src=https://imbalanced-learn.org/stable/_images/sphx_glr_plot_comparison_over_sampling_006.png width=600>\n",
    "\n",
    "\n",
    "\n",
    "## [Undersampling](https://imbalanced-learn.org/stable/under_sampling.html)"
   ]
  },
  {
   "cell_type": "markdown",
   "metadata": {},
   "source": [
    "- [RandomUnderSampler](https://imbalanced-learn.org/stable/references/generated/imblearn.under_sampling.RandomUnderSampler.html)"
   ]
  },
  {
   "cell_type": "code",
   "execution_count": 15,
   "metadata": {},
   "outputs": [
    {
     "name": "stdout",
     "output_type": "stream",
     "text": [
      "Original dataset shape Counter({'no': 31937, 'yes': 4231})\n",
      "Original dataset shape Counter({'no': 4231, 'yes': 4231})\n"
     ]
    }
   ],
   "source": [
    "from imblearn.under_sampling import RandomUnderSampler \n",
    "from collections import Counter\n",
    "\n",
    "print('Original dataset shape %s' % Counter(y_train))\n",
    "sm = RandomUnderSampler(random_state=42)\n",
    "X_res, y_res = sm.fit_resample(X_train, y_train)\n",
    "print('Original dataset shape %s' % Counter(y_res))"
   ]
  },
  {
   "cell_type": "markdown",
   "metadata": {},
   "source": [
    "- [EditedNearestNeighbours](https://imbalanced-learn.org/stable/references/generated/imblearn.under_sampling.EditedNearestNeighbours.html) <br>\n",
    "Aplica um algorítimo de nearest-neighbors algorithm e \"edita” o dataset removendo amostras que não correspondem suficientemente com a sua vizinhança.\n",
    "\n",
    "<img src=\"images/ENN.png\" width=500 text=\"https://citeseerx.ist.psu.edu/viewdoc/download?doi=10.1.1.590.5284&rep=rep1&type=pdf\">"
   ]
  },
  {
   "cell_type": "code",
   "execution_count": 16,
   "metadata": {},
   "outputs": [
    {
     "name": "stdout",
     "output_type": "stream",
     "text": [
      "Original dataset shape Counter({'no': 31937, 'yes': 4231})\n",
      "Original dataset shape Counter({'no': 26002, 'yes': 4231})\n"
     ]
    }
   ],
   "source": [
    "from imblearn.under_sampling import EditedNearestNeighbours \n",
    "from collections import Counter\n",
    "\n",
    "print('Original dataset shape %s' % Counter(y_train))\n",
    "sm = EditedNearestNeighbours()\n",
    "X_res, y_res = sm.fit_resample(X_train, y_train)\n",
    "print('Original dataset shape %s' % Counter(y_res))"
   ]
  },
  {
   "cell_type": "markdown",
   "metadata": {},
   "source": [
    "Problema: Quase nunca é interessante deixarmos dados que poderíamos usar fora do treino do modelo.\n",
    "\n",
    "## Up + Downsampling\n",
    "\n",
    "Primeiro é feito um over sampling com SMOTE e depois usa-se o edited nearest-neighbours.\n",
    "\n",
    "- [SMOTEENN](https://imbalanced-learn.org/stable/references/generated/imblearn.combine.SMOTEENN.html)\n",
    "\n",
    "<img src=\"images/SMOTEENN.png\" width=500>\n",
    "\n",
    "Após aplicar o SMOTEENN, a separação entre as classes fica muito mais evidente, além de o conjunto de dados estar balanceado."
   ]
  },
  {
   "cell_type": "code",
   "execution_count": 18,
   "metadata": {},
   "outputs": [
    {
     "name": "stdout",
     "output_type": "stream",
     "text": [
      "Original dataset shape Counter({'no': 31937, 'yes': 4231})\n",
      "Original dataset shape Counter({'yes': 27096, 'no': 22415})\n"
     ]
    }
   ],
   "source": [
    "from imblearn.combine import SMOTEENN \n",
    "from collections import Counter\n",
    "\n",
    "print('Original dataset shape %s' % Counter(y_train))\n",
    "sm = SMOTEENN()\n",
    "X_res, y_res = sm.fit_resample(X_train, y_train)\n",
    "print('Original dataset shape %s' % Counter(y_res))"
   ]
  },
  {
   "cell_type": "markdown",
   "metadata": {},
   "source": [
    "## Penalização no algoritmo\n",
    "A próxima tática é usar algoritmos de aprendizado que penalizam erros de classificação na classe minoritária ao aumentar o custo desses erros. \n",
    "\n",
    "Durante o processo de treinamento do modelo, usamos o argumento `class_weight='balanced'` para penalizar os erros cometidos na classe minoritária por um valor proporcional à sua sub-representação.\n"
   ]
  },
  {
   "cell_type": "markdown",
   "metadata": {},
   "source": [
    "#### Como utilizar essas classes com o cross-validation?\n",
    "\n",
    "## Exercício\n",
    "\n",
    "Escolha pelo menos duas técnicas de tratamento de classes desbalanceadas e aplique no dataset \"data/bank-full.csv\" e compare a performance do modelo."
   ]
  },
  {
   "cell_type": "markdown",
   "metadata": {},
   "source": [
    "## Material extra de estudo\n",
    "- [Common pitfalls and recommended practices](https://imbalanced-learn.org/stable/common_pitfalls.html)\n",
    "- [classification_report_imbalanced](https://imbalanced-learn.org/stable/references/generated/imblearn.metrics.classification_report_imbalanced.html)\n",
    "- [SMOTE, ADASYN](https://towardsdatascience.com/class-imbalance-smote-borderline-smote-adasyn-6e36c78d804)\n",
    "- https://erasmo-aln.medium.com/oversampling-ou-undersampling-porque-n%C3%A3o-os-dois-juntos-124ecb7fbb6b\n"
   ]
  },
  {
   "cell_type": "markdown",
   "metadata": {},
   "source": []
  }
 ],
 "metadata": {
  "kernelspec": {
   "display_name": "Python 3 (ipykernel)",
   "language": "python",
   "name": "python3"
  },
  "language_info": {
   "codemirror_mode": {
    "name": "ipython",
    "version": 3
   },
   "file_extension": ".py",
   "mimetype": "text/x-python",
   "name": "python",
   "nbconvert_exporter": "python",
   "pygments_lexer": "ipython3",
   "version": "3.9.5"
  },
  "toc": {
   "base_numbering": 1,
   "nav_menu": {},
   "number_sections": true,
   "sideBar": true,
   "skip_h1_title": false,
   "title_cell": "Table of Contents",
   "title_sidebar": "Contents",
   "toc_cell": true,
   "toc_position": {},
   "toc_section_display": true,
   "toc_window_display": false
  }
 },
 "nbformat": 4,
 "nbformat_minor": 4
}
