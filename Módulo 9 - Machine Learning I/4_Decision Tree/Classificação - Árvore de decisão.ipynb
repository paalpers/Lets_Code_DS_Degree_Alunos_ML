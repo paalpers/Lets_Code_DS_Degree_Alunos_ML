{
 "cells": [
  {
   "cell_type": "markdown",
   "metadata": {
    "toc": true
   },
   "source": [
    "<h1>Conteúdo<span class=\"tocSkip\"></span></h1>\n",
    "<div class=\"toc\"><ul class=\"toc-item\"><li><span><a href=\"#Formulação-teórica\" data-toc-modified-id=\"Formulação-teórica-1\"><span class=\"toc-item-num\">1&nbsp;&nbsp;</span>Formulação teórica</a></span><ul class=\"toc-item\"><li><span><a href=\"#Estrutura\" data-toc-modified-id=\"Estrutura-1.1\"><span class=\"toc-item-num\">1.1&nbsp;&nbsp;</span>Estrutura</a></span><ul class=\"toc-item\"><li><span><a href=\"#Como-fazer-uma-ramificação\" data-toc-modified-id=\"Como-fazer-uma-ramificação-1.1.1\"><span class=\"toc-item-num\">1.1.1&nbsp;&nbsp;</span>Como fazer uma ramificação</a></span></li><li><span><a href=\"#Exemplo-da-estrutura\" data-toc-modified-id=\"Exemplo-da-estrutura-1.1.2\"><span class=\"toc-item-num\">1.1.2&nbsp;&nbsp;</span>Exemplo da estrutura</a></span></li></ul></li><li><span><a href=\"#Exemplo\" data-toc-modified-id=\"Exemplo-1.2\"><span class=\"toc-item-num\">1.2&nbsp;&nbsp;</span>Exemplo</a></span></li></ul></li><li><span><a href=\"#Formulação-prática:-árvore-de-decisão\" data-toc-modified-id=\"Formulação-prática:-árvore-de-decisão-2\"><span class=\"toc-item-num\">2&nbsp;&nbsp;</span>Formulação prática: árvore de decisão</a></span><ul class=\"toc-item\"><li><span><a href=\"#Análise-exploratória\" data-toc-modified-id=\"Análise-exploratória-2.1\"><span class=\"toc-item-num\">2.1&nbsp;&nbsp;</span>Análise exploratória</a></span></li><li><span><a href=\"#Tratamento-de-dados\" data-toc-modified-id=\"Tratamento-de-dados-2.2\"><span class=\"toc-item-num\">2.2&nbsp;&nbsp;</span>Tratamento de dados</a></span></li><li><span><a href=\"#Classificação\" data-toc-modified-id=\"Classificação-2.3\"><span class=\"toc-item-num\">2.3&nbsp;&nbsp;</span>Classificação</a></span></li><li><span><a href=\"#Avaliar-modelo\" data-toc-modified-id=\"Avaliar-modelo-2.4\"><span class=\"toc-item-num\">2.4&nbsp;&nbsp;</span>Avaliar modelo</a></span></li><li><span><a href=\"#Balanceamento-dos-dados\" data-toc-modified-id=\"Balanceamento-dos-dados-2.5\"><span class=\"toc-item-num\">2.5&nbsp;&nbsp;</span>Balanceamento dos dados</a></span></li><li><span><a href=\"#Exercício---treinar-e-avaliar-resultados-para-as-técnicas-de-subamostragem\" data-toc-modified-id=\"Exercício---treinar-e-avaliar-resultados-para-as-técnicas-de-subamostragem-2.6\"><span class=\"toc-item-num\">2.6&nbsp;&nbsp;</span>Exercício - treinar e avaliar resultados para as técnicas de subamostragem</a></span></li></ul></li></ul></div>"
   ]
  },
  {
   "cell_type": "markdown",
   "metadata": {},
   "source": [
    "### Formulação teórica\n",
    "\n",
    "* Algoritmo que formula regras a partir dos possíveis valores de cada variável da base de dados\n",
    "\n",
    "#### Estrutura\n",
    "\n",
    "* Nós: cada bloco que elabore uma regra\n",
    "* Ramificação: possíveis valores da regra\n",
    "* Root node (nó raiz): primeira ramificação da árvore\n",
    "* Leaf node (nó folha ou nó de término): valor final. Cada folha representa uma classe ou um valor da regressão\n",
    "* Folhas à esquerda são respostas \"sim\" à regra e à direita \"não\"\n",
    "\n",
    "<img src=\"images/tree_nos.jpg\"  style=\"width:600px\" />\n",
    "\n",
    "\n",
    "##### Exemplo da estrutura\n",
    "<img src=\"images/decision-tree.JPG\"  style=\"width:500px\" />\n",
    "\n",
    "Como encontrar essas regras?\n",
    "\n",
    "\n",
    "<br>\n",
    "<br>\n",
    "<br>\n",
    "<br>\n",
    "<br>\n",
    "<br>\n",
    "\n",
    "## Critérios\n",
    "1. [Impureza de Gini](https://en.wikipedia.org/wiki/Decision_tree_learning#Gini_impurity): $Gini(D)=1−\\sum p_i^2$\n",
    "2. Entropia: $E=−\\sum p_i * ×log2 * p_i $\n",
    "\n"
   ]
  },
  {
   "cell_type": "markdown",
   "metadata": {},
   "source": [
    "### Impureza de  Gini\n",
    "\n",
    "O índice Gini, desenvolvido por Conra do Gini em 1912, __mede o grau de heterogeneidade dos dados__ e pode ser utilizado para __medir a impureza de um nó__.\n",
    "\n",
    "Ele é expresso matematicamente por\n",
    "\n",
    "$Gini(D)=1−\\sum p_i^2$\n",
    "\n",
    "onde $p_i$ é a probabilidade de cada classe $i$ em cada nó\n",
    "\n",
    "A Impureza de Gini __varia entre 0 e 0.5 onde 0 representa uma folha pura (presença de somente uma classe) e 0.5 representa igual distribuição entre as classes.__\n",
    "\n",
    "$Gini_{min}=1–(1^2)=0$\n",
    "\n",
    "$Gini_{max}=1–(0.5^2+0.5^2)=0.5$"
   ]
  },
  {
   "cell_type": "code",
   "execution_count": null,
   "metadata": {},
   "outputs": [],
   "source": [
    "#A figure is created to show Gini ımpurity measures \n",
    "plt.figure()\n",
    "x = np.linspace(0.01,1)\n",
    "y = 1 - x**2 - (1-x)**2\n",
    "plt.plot(x,y)\n",
    "plt.title('Gini Impurity for 2 classes')\n",
    "plt.xlabel(\"Fraction of Class k ($p_k$)\")\n",
    "plt.ylabel(\"Impurity Measure\")\n",
    "plt.xticks(np.arange(0,1.1,0.1))\n",
    "\n",
    "plt.show()\n"
   ]
  },
  {
   "cell_type": "markdown",
   "metadata": {},
   "source": [
    "#### Exemplo\n",
    "\n",
    "Digamos que uma amostra de __30 alunos__ tem duas variáveis: __Sexo__ (menino ou menina), __Classe (IX ou X)__. Digamos também que __15 jogam tênis__ no recreio. Para criar um modelo capaz de __prever quem vai jogar tênis durante o recreio__, precisamos segregar os alunos que jogam tênis no recreio com base nas variáveis à nossa disposição. A árvore de decisão segregará os alunos com base nos valores das variáveis e identificará a variável que cria os melhores conjuntos homogêneos de alunos.\n",
    "\n",
    "![Title](images/tree_gini.jpg)\n",
    "\n",
    "1. Árvore com critério Gini: $Gini(D)=1−\\sum p_i^2$\n",
    "\n",
    "- **Impureza antes da divisão**: Como não havia separação alguma, a impureza era dada simplesmente pelo balanço natural dos dados: \n",
    "\n",
    "$$G(\\text{pré-divisão}) = 1 - ((15/30)^2 + (15/30)^2) = 0.5$$\n",
    "\n",
    "Temos duas quebras possíveis:\n",
    "- **1.1 Divisão por sexo:** \n",
    "\n",
    "<table>\n",
    "<thead>\n",
    "  <tr>\n",
    "    <th colspan=\"4\"><center>Sexo</center></th>\n",
    "  </tr>\n",
    "</thead>\n",
    "<tbody>\n",
    "  <tr>\n",
    "    <td colspan=\"2\"><center>Meninas</center></td>\n",
    "    <td colspan=\"2\"><center>Meninos</center></td>\n",
    "  </tr>\n",
    "  <tr>\n",
    "    <td><center>jogam tênis</center></td>\n",
    "    <td><center>NÃO jogam tênis</center></td>\n",
    "    <td><center>jogam tênis</center></td>\n",
    "    <td><center>NÃO jogam tênis</center></td>\n",
    "  </tr>\n",
    "  <tr>\n",
    "    <td><center>2</center></td>\n",
    "    <td><center>8</center></td>\n",
    "    <td><center>13</center></td>\n",
    "    <td><center>7</center></td>\n",
    "  </tr>\n",
    "  <tr>\n",
    "    <td colspan=\"2\"><center>10</center></td>\n",
    "    <td colspan=\"2\"><center>20</center></td>\n",
    "  </tr>\n",
    "</tbody>\n",
    "</table>\n",
    "\n",
    "Segundo a tabela acima, após a divisão dos dados pela feature **sexo** passamos a ter as seguintes impurezas:\n",
    "\n",
    "* $G(meninas) = 1 - (\\frac{2}{10}^2 + \\frac{8}{10}^2) = 0.319$\n",
    "* $G(meninos) = 1 - ( \\frac{13}{20}^2 + \\frac{7}{20}^2) = 0.454$\n",
    "\n",
    "Após a divisão, a impureza total passa a ser a média ponderada:\n",
    "\n",
    "* $G(pós-divisão) = \\frac{10}{30} \\times G(meninas) + \\frac{20}{30} \\times G(meninos) = 0.33 \\times 0.319 + 0.66 \\times 0.454 = 0.40491$\n",
    "* $G_{gain} = G(pré-divisão) - G(pós-divisão) = 0.5 - 0.40491 = 0.095$\n",
    "\n",
    "<br>\n",
    "<br>\n",
    "<br>\n",
    "\n",
    "- **1.2 Divisão por classe:**\n",
    "\n",
    "<table>\n",
    "<thead>\n",
    "  <tr>\n",
    "    <th colspan=\"4\"><center>Classe</center></th>\n",
    "  </tr>\n",
    "</thead>\n",
    "<tbody>\n",
    "  <tr>\n",
    "    <td colspan=\"2\"><center>Classe IX</center></td>\n",
    "    <td colspan=\"2\"><center>Classe X</center></td>\n",
    "  </tr>\n",
    "  <tr>\n",
    "    <td><center>jogam tênis</center></td>\n",
    "    <td><center>NÃO jogam tênis</center></td>\n",
    "    <td><center>jogam tênis</center></td>\n",
    "    <td><center>NÃO jogam tênis</center></td>\n",
    "  </tr>\n",
    "  <tr>\n",
    "    <td><center>6</center></td>\n",
    "    <td><center>8</center></td>\n",
    "    <td><center>9</center></td>\n",
    "    <td><center>7</center></td>\n",
    "  </tr>\n",
    "  <tr>\n",
    "    <td colspan=\"2\"><center>14</center></td>\n",
    "    <td colspan=\"2\"><center>16</center></td>\n",
    "  </tr>\n",
    "</tbody>\n",
    "</table>\n",
    "\n",
    "Segundo a tabela acima, após a divisão dos dados pela feature **classe** passamos a ter as seguintes impurezas:\n",
    "\n",
    "- $G(IX) = 1 - (\\frac{6}{14}^2 + \\frac{8}{14}^2) = 0.489$\n",
    "- $G(X) = 1 - ( \\frac{9}{16}^2 + \\frac{7}{16}^2) = 0.492$\n",
    "\n",
    "Ou seja, após a divisão, a impureza total passa a ser a média ponderada: \n",
    "\n",
    "- $G(pós-divisão) = \\frac{14}{30} \\times G(IX) + \\frac{16}{30} \\times G(X) = 0.46 \\times 0.489 + 0.53 \\times 0.492 = 0.4857$\n",
    "- $G_{gain} = G(pré-divisão) - G(pós-divisão) = 0.5 - 0.4857 =  0.014$\n",
    "\n",
    "<br>\n",
    "<br>\n",
    "<br>\n",
    "\n",
    "Qual critério escolher? Aquele que tiver maior ganho!\n",
    "<br>\n",
    "<br>\n",
    "<br>"
   ]
  },
  {
   "cell_type": "markdown",
   "metadata": {},
   "source": [
    "### **Critério de entropia**\n",
    "\n",
    "A **entropia** é uma quantidade que tem o objetivo de quantificar **o grau de desordem de um sistema**, ou, equivalentemente, **o quanto de informação se tem sobre determinado sistema**.\n",
    "\n",
    "A entropia é dada por:\n",
    "\n",
    " $$S = -\\sum{p_{i} \\times \\log_{2}{p_{i}}} = -p \\log_{2}(p) - q \\log_{2}(q)$$\n",
    " \n",
    " \n",
    "Onde $p_i$ são as proporções de separação do __target__ em cada quebra. Os valores de entropia variam entre 0 e 1 no qual o valor 0 representa folhas puras enquanto no valor 1 temos uma distribuição uniforme das classes.\n",
    "\n",
    "Aqui estaremos interessados **em como a impureza muda após as quebras**. \n",
    " \n",
    "Aqui também estaremos interessados **em como a entropia muda após as quebras**. Nosso objetivo será **maximizar o ganho de informação proporcionado pela quebra nos nós** -- mais precisamente, estamos interessados em determinar **qual é a quebra que proporciona o maior ganho de informação**.\n",
    "\n",
    "- **Entropia antes da divisão**: \n",
    "\n",
    "$$S(pré-divisão) = -1 \\times( \\frac{15}{30}log_{2}{\\frac{15}{30}} + \\frac{15}{30}log_{2}{\\frac{15}{30}} ) = 1$$\n",
    "\n",
    "\n",
    "Temos duas quebras possíveis:\n",
    "\n",
    "- Divisão por sexo: \n",
    "\n",
    "    - $S(\\text{meninas}) = -1 \\times (\\frac{2}{10} \\log_{2}\\frac{2}{10} + \\frac{8}{10} \\log_{2}\\frac{8}{10}) = 0.721$\n",
    "    - $S(\\text{meninos}) = -1 \\times (\\frac{13}{20} \\log_{2}\\frac{13}{20} + \\frac{7}{20} \\log_{2}\\frac{7}{20}) = 0.934$\n",
    "    \n",
    "    A entropia ponderada após a divisão por **sexo** é:\n",
    "    \n",
    "    <br>\n",
    "    \n",
    "    - $S(\\text{pós-divisão}) = \\frac{10}{30} \\times S(\\text{meninas}) + \\frac{20}{30} \\times S(\\text{meninos}) =  0.863$\n",
    "    \n",
    "    Assim, o ganho de informação após a divisão por **sexo** é:\n",
    "    \n",
    "    <br>\n",
    "    \n",
    "    - $\\Delta S_{\\text{sexo}} = S(\\text{pré-divisão}) - S(\\text{pós-divisão}) = 1 - 0.863 =$ **0.137**\n",
    "\n",
    "<br>\n",
    "\n",
    "- Divisão por classe:\n",
    "\n",
    "    - $S(\\text{IX}) = ?$\n",
    "    - $S(\\text{X}) = ?$\n",
    "    \n",
    "    A entropia ponderada após a divisão por **classe** é:\n",
    "    \n",
    "    <br>\n",
    "    \n",
    "    - $S(\\text{pós-divisão}) = \\frac{10}{30} \\times S(\\text{IX}) + \\frac{20}{30} \\times S(\\text{X}) = ?$\n",
    "    \n",
    "    Assim, o ganho de informação após a divisão por **classe** é:\n",
    "    \n",
    "    <br>\n",
    "    \n",
    "    - $\\Delta S_{\\text{classe}} = S(\\text{pré-divisão}) - S(\\text{pós-divisão}) = ? $\n",
    "\n",
    "Pela entropia, a divisão a ser escolhida seria por ?. \n",
    "\n",
    "Depois, aplica-se o mesmo procedimento para os nós resultantes, até obter-se nós puros."
   ]
  },
  {
   "cell_type": "markdown",
   "metadata": {},
   "source": [
    "### Gini x Entropia\n",
    "A Impureza de Gini e a Entropia têm duas diferenças principais:\n",
    "\n",
    "> 1. A Impureza de Gini tem valores dentro do intervalo [0, 0.5] enquanto que o intervalo da Entropia é [0, 1]. Na figura a seguir, ambos estão representados. O índice de Gini também foi representado multiplicado por dois para ver concretamente as diferenças entre eles, que não são muito significativas.\n",
    "<br>\n",
    "\n",
    "> 2. Computacionalmente, a entropia é mais complexa, pois faz uso de logaritmos e, consequentemente, o cálculo da Impureza de Gini será mais rápido.\n",
    "\n",
    "<img src=\"images/entropy_and_gini.png\"  style=\"width:800px\" />\n",
    "\n",
    "\n",
    "\n",
    "Fonte: https://quantdare.com/decision-trees-gini-vs-entropy/"
   ]
  },
  {
   "cell_type": "markdown",
   "metadata": {},
   "source": [
    "## Formulação prática: árvore de decisão\n"
   ]
  },
  {
   "cell_type": "code",
   "execution_count": null,
   "metadata": {},
   "outputs": [],
   "source": [
    "import pandas as pd\n",
    "import numpy as np\n",
    "import matplotlib.pyplot as plt\n",
    "import seaborn as sns\n",
    "\n",
    "import warnings\n",
    "warnings.filterwarnings(\"ignore\")"
   ]
  },
  {
   "cell_type": "code",
   "execution_count": null,
   "metadata": {},
   "outputs": [],
   "source": [
    "df = pd.read_csv(\"../data/bank-full.csv\") "
   ]
  },
  {
   "cell_type": "code",
   "execution_count": null,
   "metadata": {},
   "outputs": [],
   "source": [
    "# particionar dados\n",
    "from sklearn.model_selection import train_test_split \n",
    "\n",
    "# Separar feature e target\n",
    "y = df['Target'].copy()\n",
    "X = df.drop('Target', axis=1).copy()\n",
    "\n",
    "X_train, X_test, y_train, y_test = train_test_split(X, y, stratify=y, test_size=0.9, random_state=42) "
   ]
  },
  {
   "cell_type": "markdown",
   "metadata": {},
   "source": [
    "### Análise exploratória"
   ]
  },
  {
   "cell_type": "markdown",
   "metadata": {},
   "source": [
    "Temos nulos?"
   ]
  },
  {
   "cell_type": "code",
   "execution_count": null,
   "metadata": {},
   "outputs": [],
   "source": []
  },
  {
   "cell_type": "markdown",
   "metadata": {},
   "source": [
    "Vamos ver o pairplot com as cores dadas pelo \"Target\""
   ]
  },
  {
   "cell_type": "code",
   "execution_count": null,
   "metadata": {},
   "outputs": [],
   "source": []
  },
  {
   "cell_type": "markdown",
   "metadata": {},
   "source": [
    "#### Tratamento de dados"
   ]
  },
  {
   "cell_type": "markdown",
   "metadata": {},
   "source": [
    "Vamos manter apenas as colunas 'marital', 'age', 'balance', 'duration', 'education', 'housing' \n",
    "e resetar o index do X_train e X_test"
   ]
  },
  {
   "cell_type": "code",
   "execution_count": null,
   "metadata": {},
   "outputs": [],
   "source": []
  },
  {
   "cell_type": "markdown",
   "metadata": {},
   "source": [
    "Vamos criar uma lista com as variáveis numéricas e outra com as categóricas:"
   ]
  },
  {
   "cell_type": "code",
   "execution_count": null,
   "metadata": {},
   "outputs": [],
   "source": [
    "colunas_numericas = \n",
    "colunas_categoricas = "
   ]
  },
  {
   "cell_type": "markdown",
   "metadata": {},
   "source": [
    "Com o OneHotEncoder e LabelEncoder do sklearn.preprocessing, vamos converter as colunas categóricas do treino em dummy:"
   ]
  },
  {
   "cell_type": "code",
   "execution_count": null,
   "metadata": {},
   "outputs": [],
   "source": []
  },
  {
   "cell_type": "markdown",
   "metadata": {},
   "source": [
    "Como podemos obter o nome das colunas após o OneHotEncoder? Método get_feature_names_out!"
   ]
  },
  {
   "cell_type": "code",
   "execution_count": null,
   "metadata": {},
   "outputs": [],
   "source": [
    "ohe.get_feature_names_out(colunas_categoricas)"
   ]
  },
  {
   "cell_type": "markdown",
   "metadata": {},
   "source": [
    "Podemos converter em um pandas:"
   ]
  },
  {
   "cell_type": "code",
   "execution_count": null,
   "metadata": {},
   "outputs": [],
   "source": []
  },
  {
   "cell_type": "markdown",
   "metadata": {},
   "source": [
    "Precisamos voltar a ter nosso dataset tanto com as colunas convertidas pelo OneHotEncoder quanto as numéricas:"
   ]
  },
  {
   "cell_type": "code",
   "execution_count": null,
   "metadata": {},
   "outputs": [],
   "source": []
  },
  {
   "cell_type": "code",
   "execution_count": null,
   "metadata": {},
   "outputs": [],
   "source": [
    "X_train"
   ]
  },
  {
   "cell_type": "markdown",
   "metadata": {},
   "source": [
    "Vamos aplicar esses mesmos tratamentos ao conjunto de teste."
   ]
  },
  {
   "cell_type": "code",
   "execution_count": null,
   "metadata": {},
   "outputs": [],
   "source": []
  },
  {
   "cell_type": "markdown",
   "metadata": {},
   "source": [
    "### Classificação"
   ]
  },
  {
   "cell_type": "code",
   "execution_count": null,
   "metadata": {},
   "outputs": [],
   "source": [
    "from sklearn.tree import DecisionTreeClassifier, plot_tree \n",
    "\n",
    "# Instância modelo de classificação\n",
    "model = \n",
    "\n",
    "# Treina o modelo\n",
    "\n",
    "\n",
    "# Prediz nos dados \n",
    "y_pred = \n",
    "\n",
    "y_pred"
   ]
  },
  {
   "cell_type": "markdown",
   "metadata": {},
   "source": [
    "### Avaliar modelo"
   ]
  },
  {
   "cell_type": "code",
   "execution_count": null,
   "metadata": {},
   "outputs": [],
   "source": [
    "from sklearn.metrics import classification_report , ConfusionMatrixDisplay, confusion_matrix\n",
    "\n",
    "print(classification_report(y_test, y_pred))\n",
    "\n",
    "cm = confusion_matrix(y_test, y_pred)\n",
    "\n",
    "ConfusionMatrixDisplay(cm).plot(cmap='Blues')"
   ]
  },
  {
   "cell_type": "markdown",
   "metadata": {},
   "source": [
    "### Visualizando a árvore"
   ]
  },
  {
   "cell_type": "code",
   "execution_count": null,
   "metadata": {},
   "outputs": [],
   "source": [
    "plt.figure(figsize=(520, 500))\n",
    "\n",
    "plot_tree(model, max_depth=3, class_names=['no', 'yes'], fontsize=62, feature_names=X_train.columns, filled=True)\n",
    "\n",
    "plt.show()"
   ]
  },
  {
   "cell_type": "markdown",
   "metadata": {},
   "source": [
    "O que acontece quando chega um ponto novo?"
   ]
  },
  {
   "cell_type": "markdown",
   "metadata": {},
   "source": [
    "________________________________________________\n",
    "________________________________________________\n",
    "________________________________________________\n"
   ]
  },
  {
   "cell_type": "markdown",
   "metadata": {},
   "source": [
    "#### Etapas para modelagem\n",
    "\n",
    "1. Investigação da base\n",
    "    - matriz de correlação, entende os atributos, balanceamento dos dados\n",
    "2. Transformação de dados numéricos\n",
    "    - one hot encoding \n",
    "    - label encoder \n",
    "3. Normalização dos dados\n",
    "    - distribuição de dados mt distinta\n",
    "4. Balanceamento\n",
    "    - Oversampling ou undersampling\n",
    "5. Particionar a base de dados\n",
    "    - Treino (modelagem) - X_train\n",
    "    - Teste (X_test, y_test)\n",
    "5. Treina o algoritmo\n",
    "    - X_train\n",
    "    - encontrar padrões com base no x_train\n",
    "6. Teste\n",
    "    - Usar X_test para prever novas amostras\n",
    "    - Gerar y_pred\n",
    "    - Avaliação de desempenho: comparar o y_test e y_pred"
   ]
  },
  {
   "cell_type": "markdown",
   "metadata": {},
   "source": [
    "## Material extra de estudo\n",
    "[Comparação computacional do tempo de treino entre Gini e Entropia](https://quantdare.com/decision-trees-gini-vs-entropy/) <br>\n",
    "[4 formas de visualizar a árvore de decisão](https://mljar.com/blog/visualize-decision-tree/) <br>\n",
    "[Scikit](https://scikit-learn.org/stable/modules/tree.html#tree) <br>\n",
    "[Site bacana](http://www.r2d3.us/visual-intro-to-machine-learning-part-1/)\n"
   ]
  },
  {
   "cell_type": "markdown",
   "metadata": {},
   "source": [
    "________________________________________________\n",
    "________________________________________________\n",
    "________________________________________________\n"
   ]
  },
  {
   "cell_type": "markdown",
   "metadata": {},
   "source": [
    "## Exercícios\n",
    "1 - Refaça o treino da árvore de decisão com validação cruzada."
   ]
  },
  {
   "cell_type": "code",
   "execution_count": null,
   "metadata": {},
   "outputs": [],
   "source": []
  },
  {
   "cell_type": "markdown",
   "metadata": {},
   "source": [
    "\n",
    "2 - Agora com esse dataset faça uma validação cruzada para alguns valores de k e compare com o modelo criado no exercício anterior. Qual foi o melhor modelo?"
   ]
  },
  {
   "cell_type": "code",
   "execution_count": null,
   "metadata": {},
   "outputs": [],
   "source": []
  },
  {
   "cell_type": "markdown",
   "metadata": {},
   "source": [
    "3 - Vamos usar dados de falhas cardíacas para prever se uma falha irá acontecer ou não. Os dados estão no dataset \"data/heart_failures.csv\".\n",
    "\n",
    "Utilize o modelo de árvores de decisão e preveja se a falha cardíaca irá acontecer testando as duas métricas de split.\n",
    "\n",
    "Tente comparar com um modelo de regressão logística e um KNN.\n",
    "\n",
    "Recomendação: façam os exercícios em um novo notebook. Ao longo do curso iremos implementar melhorias e comparações com outros modelos. E separando em um novo notebook fica mais fácil de salvar no git como portfólio ou postar no linkedin.\n",
    "\n"
   ]
  },
  {
   "cell_type": "code",
   "execution_count": null,
   "metadata": {},
   "outputs": [],
   "source": []
  }
 ],
 "metadata": {
  "interpreter": {
   "hash": "cb5f626699f206ef97176a4f092b8d9f6e52ae1f84b4bb3163daf9eb25ca3519"
  },
  "kernelspec": {
   "display_name": "Python 3.9.12 ('aula_venv': venv)",
   "language": "python",
   "name": "python3"
  },
  "language_info": {
   "codemirror_mode": {
    "name": "ipython",
    "version": 3
   },
   "file_extension": ".py",
   "mimetype": "text/x-python",
   "name": "python",
   "nbconvert_exporter": "python",
   "pygments_lexer": "ipython3",
   "version": "3.9.12"
  },
  "toc": {
   "base_numbering": 1,
   "nav_menu": {},
   "number_sections": true,
   "sideBar": true,
   "skip_h1_title": false,
   "title_cell": "Table of Contents",
   "title_sidebar": "Contents",
   "toc_cell": true,
   "toc_position": {},
   "toc_section_display": true,
   "toc_window_display": false
  }
 },
 "nbformat": 4,
 "nbformat_minor": 4
}
